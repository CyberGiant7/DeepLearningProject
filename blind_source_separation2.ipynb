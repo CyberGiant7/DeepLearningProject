{
 "cells": [
  {
   "cell_type": "code",
   "execution_count": 1,
   "metadata": {
    "ExecuteTime": {
     "end_time": "2025-02-05T14:34:56.246404Z",
     "start_time": "2025-02-05T14:34:18.168492Z"
    },
    "colab": {
     "base_uri": "https://localhost:8080/"
    },
    "id": "wrlTnZCNfnfr",
    "outputId": "1bd69260-01d6-4c14-e68c-9084f8723ab6"
   },
   "outputs": [
    {
     "name": "stderr",
     "output_type": "stream",
     "text": [
      "WARNING: All log messages before absl::InitializeLog() is called are written to STDERR\n",
      "E0000 00:00:1738881598.789230    1319 cuda_dnn.cc:8310] Unable to register cuDNN factory: Attempting to register factory for plugin cuDNN when one has already been registered\n",
      "E0000 00:00:1738881598.797039    1319 cuda_blas.cc:1418] Unable to register cuBLAS factory: Attempting to register factory for plugin cuBLAS when one has already been registered\n"
     ]
    }
   ],
   "source": [
    "import os\n",
    "import sys\n",
    "\n",
    "sys.stderr = open(os.devnull, \"w\")\n",
    "    \n",
    "import logging\n",
    "logging.getLogger('tensorflow').disabled = True\n",
    "# Suppress logging warnings\n",
    "os.environ[\"GRPC_VERBOSITY\"] = \"FATAL\"\n",
    "os.environ[\"GLOG_minloglevel\"] = \"3\"\n",
    "os.environ['TF_CPP_MIN_LOG_LEVEL'] = '3'\n",
    "\n",
    "import tensorflow as tf\n",
    "from keras import layers\n",
    "from tensorflow.keras.datasets import mnist, fashion_mnist\n",
    "from sklearn.model_selection import train_test_split\n",
    "import keras_tuner as kt\n",
    "\n",
    "import numpy as np\n",
    "from matplotlib import pyplot as plt\n",
    "\n",
    "\n",
    "seed = 42\n",
    "tf.keras.utils.set_random_seed(seed)\n",
    "np.random.seed(seed)\n",
    "tf.compat.v1.logging.set_verbosity(tf.compat.v1.logging.ERROR)\n",
    "tf.autograph.set_verbosity(1)\n",
    "\n",
    "os.environ[\"XLA_FLAGS\"] = \"--xla_gpu_cuda_data_dir=\" \n",
    "\n",
    "tf.get_logger().setLevel(\"ERROR\")\n",
    "logging.getLogger(\"tensorflow\").setLevel(logging.ERROR)\n",
    "logging.getLogger(\"absl\").setLevel(logging.ERROR)\n",
    "tf.config.optimizer.set_jit(False)  # Disable XLA to avoid logs"
   ]
  },
  {
   "cell_type": "markdown",
   "metadata": {
    "id": "BtO9jMGEaShb"
   },
   "source": [
    "# Blind source separation\n",
    "\n",
    "This project aims to separate an image, formed as the sum of two images, into its original components.\n",
    "\n",
    "The two source images, img1 and img2, are drawn from different datasets: MNIST and Fashion-MNIST, respectively.\n",
    "\n",
    "No preprocessing is allowed. The neural network receives the combined image (img1 + img2) as input and outputs the predicted components (hat_img1,hat_img2).\n",
    "\n",
    "Performance is evaluated using the mean squared error (MSE) between the predicted and ground-truth images.\n",
    "\n",
    "Both datasets (MNIST and Fashion-MNIST) are grayscale. For simplicity, all samples are padded to a (32,32) resolution."
   ]
  },
  {
   "cell_type": "code",
   "execution_count": 2,
   "metadata": {
    "ExecuteTime": {
     "end_time": "2025-02-05T14:34:58.042609Z",
     "start_time": "2025-02-05T14:34:56.261933Z"
    },
    "colab": {
     "base_uri": "https://localhost:8080/"
    },
    "id": "yRYiW2ipukZF",
    "outputId": "599ab47a-b0c5-41c0-8bf6-4c57a3c11d1b"
   },
   "outputs": [
    {
     "name": "stdout",
     "output_type": "stream",
     "text": [
      "mnist train shape: (48000, 28, 28)\n",
      "mnist val shape: (12000, 28, 28)\n",
      "mnist test shape: (10000, 28, 28)\n",
      "fashion mnist train shape: (48000, 28, 28)\n",
      "fashion mnist val shape: (12000, 28, 28)\n",
      "fashion mnist test shape: (10000, 28, 28)\n",
      "(48000, 32, 32)\n"
     ]
    }
   ],
   "source": [
    "\n",
    "(mnist_x_train, mnist_y_train), (mnist_x_test, mnist_y_test) = mnist.load_data()\n",
    "mnist_x_train, mnist_x_val, mnist_y_train, mnist_y_val = train_test_split(mnist_x_train, mnist_y_train, test_size=0.2)\n",
    "print(\"mnist train shape:\", np.shape(mnist_x_train))\n",
    "print(\"mnist val shape:\", np.shape(mnist_x_val))\n",
    "print(\"mnist test shape:\", np.shape(mnist_x_test))\n",
    "\n",
    "\n",
    "(fashion_mnist_x_train, fashion_mnist_y_train), (fashion_mnist_x_test, fashion_mnist_y_test) = fashion_mnist.load_data()\n",
    "fashion_mnist_x_train, fashion_mnist_x_val, fashion_mnist_y_train, fashion_mnist_y_val = train_test_split(fashion_mnist_x_train, fashion_mnist_y_train, test_size=0.2)\n",
    "print(\"fashion mnist train shape:\", np.shape(fashion_mnist_x_train))\n",
    "print(\"fashion mnist val shape:\", np.shape(fashion_mnist_x_val))\n",
    "print(\"fashion mnist test shape:\", np.shape(fashion_mnist_x_test))\n",
    "\n",
    "#normalize in and pad\n",
    "mnist_x_train = np.pad(mnist_x_train,((0,0),(2,2),(2,2)))/255.\n",
    "print(np.shape(mnist_x_train))\n",
    "mnist_x_val = np.pad(mnist_x_val, ((0,0),(2,2),(2,2)))/255.\n",
    "mnist_x_test = np.pad(mnist_x_test,((0,0),(2,2),(2,2)))/255.\n",
    "\n",
    "fashion_mnist_x_train = np.pad(fashion_mnist_x_train,((0,0),(2,2),(2,2)))/255.\n",
    "fashion_mnist_x_val = np.pad(fashion_mnist_x_val,((0,0),(2,2),(2,2)))/255.\n",
    "fashion_mnist_x_test = np.pad(fashion_mnist_x_test,((0,0),(2,2),(2,2)))/255."
   ]
  },
  {
   "cell_type": "code",
   "execution_count": 3,
   "metadata": {
    "ExecuteTime": {
     "end_time": "2025-02-05T14:34:58.429995Z",
     "start_time": "2025-02-05T14:34:58.425141Z"
    },
    "colab": {
     "base_uri": "https://localhost:8080/"
    },
    "id": "WBIWB2a-VGqH",
    "outputId": "38c971d9-8649-44d3-bcf6-2a4acf7de73e"
   },
   "outputs": [
    {
     "name": "stdout",
     "output_type": "stream",
     "text": [
      "(48000, 32, 32)\n"
     ]
    }
   ],
   "source": [
    "print(np.shape(mnist_x_train))"
   ]
  },
  {
   "cell_type": "markdown",
   "metadata": {
    "id": "Or5X_DyPc6dT"
   },
   "source": [
    "Here is a simple datagenerator."
   ]
  },
  {
   "cell_type": "code",
   "execution_count": 4,
   "metadata": {
    "ExecuteTime": {
     "end_time": "2025-02-05T14:34:58.625480Z",
     "start_time": "2025-02-05T14:34:58.497736Z"
    },
    "id": "7Y5Zpv5fw2hd"
   },
   "outputs": [],
   "source": [
    "def datagenerator(x1,x2,batchsize):\n",
    "    n1 = x1.shape[0]\n",
    "    n2 = x2.shape[0]\n",
    "    while True:\n",
    "        num1 = np.random.randint(0, n1, batchsize)\n",
    "        num2 = np.random.randint(0, n2, batchsize)\n",
    "\n",
    "        x_data = (x1[num1] + x2[num2]) / 2.0\n",
    "        y_data = (x1[num1], x2[num2])\n",
    "\n",
    "        yield x_data, y_data"
   ]
  },
  {
   "cell_type": "markdown",
   "metadata": {
    "id": "9JLwLpsrdVH-"
   },
   "source": [
    "Let us define a generator with batchsize=1 and let's test it."
   ]
  },
  {
   "cell_type": "code",
   "execution_count": 5,
   "metadata": {
    "ExecuteTime": {
     "end_time": "2025-02-05T14:34:58.882914Z",
     "start_time": "2025-02-05T14:34:58.632177Z"
    },
    "id": "dkv8Qc9-wEnf"
   },
   "outputs": [],
   "source": [
    "onegen = datagenerator(mnist_x_test,fashion_mnist_x_test,1)"
   ]
  },
  {
   "cell_type": "markdown",
   "metadata": {
    "id": "UiVcyHrVeXpI"
   },
   "source": [
    "Let us look at some input-output pairs"
   ]
  },
  {
   "cell_type": "code",
   "execution_count": 6,
   "metadata": {
    "ExecuteTime": {
     "end_time": "2025-02-05T14:34:59.083678Z",
     "start_time": "2025-02-05T14:34:58.899416Z"
    },
    "id": "y0BEm2dhGx30"
   },
   "outputs": [],
   "source": [
    "def show_images(x,y1,y2):\n",
    "    fig, ax = plt.subplots(1,3,figsize=(12,4))\n",
    "    ax[0].imshow(x,cmap='gray')\n",
    "    ax[0].title.set_text('Input')\n",
    "    ax[0].axis('off')\n",
    "    ax[1].imshow(y1,cmap='gray')\n",
    "    ax[1].title.set_text('mnist')\n",
    "    ax[1].axis('off')\n",
    "    ax[2].imshow(y2,cmap='gray')\n",
    "    ax[2].title.set_text('fashion_mnist')\n",
    "    ax[2].axis('off')\n",
    "    plt.show()"
   ]
  },
  {
   "cell_type": "code",
   "execution_count": 7,
   "metadata": {
    "ExecuteTime": {
     "end_time": "2025-02-05T14:35:00.020899Z",
     "start_time": "2025-02-05T14:34:59.100884Z"
    },
    "colab": {
     "base_uri": "https://localhost:8080/",
     "height": 225
    },
    "id": "d1l_Ry2FHQqP",
    "outputId": "4202884c-54eb-4a49-9683-967c0d8286c2"
   },
   "outputs": [
    {
     "data": {
      "image/png": "[encoded data removed]",
      "text/plain": [
       "<Figure size 1200x400 with 3 Axes>"
      ]
     },
     "metadata": {},
     "output_type": "display_data"
    }
   ],
   "source": [
    "x,(y1,y2)=next(onegen)\n",
    "show_images(x[0],y1[0],y2[0])"
   ]
  },
  {
   "cell_type": "markdown",
   "metadata": {
    "id": "lO0l50Z9W9c-"
   },
   "source": [
    "# Model evaluation\n",
    "\n",
    "Let us define the test generator."
   ]
  },
  {
   "cell_type": "code",
   "execution_count": 8,
   "metadata": {
    "ExecuteTime": {
     "end_time": "2025-02-05T14:35:00.146560Z",
     "start_time": "2025-02-05T14:35:00.041637Z"
    },
    "id": "4Qrl40WWJrwV"
   },
   "outputs": [],
   "source": [
    "testgen = datagenerator(mnist_x_test,fashion_mnist_x_test,5000)\n",
    "\n",
    "eval_samples_x, (eval_samples_y1, eval_sample2) = next(testgen)"
   ]
  },
  {
   "cell_type": "markdown",
   "metadata": {
    "id": "2ubgEZV6Xkz6"
   },
   "source": [
    "We test a model returning twice the input image. You will need to replace it with your own predictive model."
   ]
  },
  {
   "cell_type": "code",
   "execution_count": 9,
   "metadata": {
    "ExecuteTime": {
     "end_time": "2025-02-05T14:40:27.409836Z",
     "start_time": "2025-02-05T14:40:27.398594Z"
    },
    "id": "NXPbkJjQX1pk"
   },
   "outputs": [],
   "source": [
    "from tensorflow.keras import models\n",
    "from tensorflow.keras.callbacks import EarlyStopping, ReduceLROnPlateau\n",
    "\n",
    "class MyHyperModel(kt.HyperModel):\n",
    "    def __init__(self, input_shape=(32, 32, 1), total_modules=3, conv_layers_per_module=2):\n",
    "        \"\"\"\n",
    "        Initializes the hypermodel with fixed architectural parameters.\n",
    "        \n",
    "        Args:\n",
    "            input_shape: Shape of the input images.\n",
    "            total_modules: Total number of encoder modules (including the bottleneck).\n",
    "            conv_layers_per_module: Number of convolution layers in each module.\n",
    "        \"\"\"\n",
    "        self.input_shape = input_shape\n",
    "        self.total_modules = total_modules\n",
    "        self.conv_layers_per_module = conv_layers_per_module\n",
    "\n",
    "    def encoder_module(self, x, module_idx, filters, activation_fn):\n",
    "        \"\"\"\n",
    "        Applies a block of convolutional operations and downsamples the feature maps.\n",
    "        \n",
    "        Args:\n",
    "            x: Input tensor.\n",
    "            module_idx: Current module index.\n",
    "            filters: Number of convolution filters.\n",
    "            conv_layers: Number of convolution layers to apply.\n",
    "            skip_list: List to store outputs for skip connections.\n",
    "            activation_fn: Activation function to be used.\n",
    "        \n",
    "        Returns:\n",
    "            A tuple (output_tensor, updated_filters).\n",
    "        \"\"\"\n",
    "        for _ in range(self.conv_layers_per_module):\n",
    "            x = layers.Conv2D(filters, kernel_size=3, strides=1, padding='same')(x)\n",
    "            x = layers.BatchNormalization()(x)\n",
    "            x = layers.Activation(activation_fn)(x)\n",
    "        \n",
    "        # Save output for skip connection if not in the bottleneck module.\n",
    "        if module_idx < self.total_modules - 1:\n",
    "            self.skip_connections.append(x)\n",
    "            x = layers.MaxPooling2D(pool_size=(2, 2), padding='same')(x)\n",
    "            filters *= 2\n",
    "        return x, filters\n",
    "    \n",
    "    def decoder_module(self, x, module_idx, filters, activation_fn):\n",
    "        \"\"\"\n",
    "        Upsamples the input, concatenates with the corresponding skip connection,\n",
    "        and applies a block of convolutional operations.\n",
    "        \n",
    "        Args:\n",
    "            x: Input tensor from the previous layer.\n",
    "            module_idx: Current decoder module index.\n",
    "            filters: Current number of filters.\n",
    "            conv_layers: Number of convolution layers to apply.\n",
    "            skip_list: List containing encoder outputs for skip connections.\n",
    "            activation_fn: Activation function to be used.\n",
    "        \n",
    "        Returns:\n",
    "            A tuple (output_tensor, updated_filters).\n",
    "        \"\"\"\n",
    "        filters //= 2\n",
    "        x = layers.Conv2DTranspose(filters, kernel_size=3, strides=2, padding='same')(x)\n",
    "        # Use the last stored skip connection\n",
    "        x = layers.concatenate([x, self.skip_connections.pop()])\n",
    "        \n",
    "        # Process with a convolutional block\n",
    "        for _ in range(self.conv_layers_per_module):\n",
    "            x = layers.Conv2D(filters, kernel_size=3, strides=1, padding='same')(x)\n",
    "            x = layers.BatchNormalization()(x)\n",
    "            x = layers.Activation(activation_fn)(x)\n",
    "        return x, filters\n",
    "\n",
    "    def build(self, hp):\n",
    "        \"\"\"\n",
    "        Constructs and compiles the model based on hyperparameters defined via Keras Tuner.\n",
    "        \n",
    "        Hyperparameters tuned:\n",
    "            - initial number of filters\n",
    "            - activation function\n",
    "            - learning rate\n",
    "        \n",
    "        Returns:\n",
    "            A compiled Keras model with two outputs (each 32x32x1).\n",
    "        \"\"\"\n",
    "        # Hyperparameter definitions\n",
    "        init_filters = hp.Choice('initial_filters', values=[32, 64, 128], default=128)\n",
    "        activation_fn = hp.Choice('activation_function', values=['relu', 'sigmoid', 'tanh', 'leaky_relu'], default='relu')\n",
    "        lr = hp.Choice('learning_rate', values=[1e-2, 1e-3, 1e-4])\n",
    "\n",
    "        # Input layer\n",
    "        inputs = layers.Input(shape=self.input_shape)\n",
    "        self.skip_connections = []\n",
    "        x = inputs\n",
    "        filters = init_filters\n",
    "\n",
    "        # Encoder path\n",
    "        for module in range(self.total_modules):\n",
    "            x, filters = self.encoder_module(x, module, filters, activation_fn)\n",
    "\n",
    "        # Decoder path (one fewer module than encoder)\n",
    "        for module in range(self.total_modules - 1):\n",
    "            x, filters = self.decoder_module(x, module, filters, activation_fn)\n",
    "\n",
    "        # # Two separate output layers (1x1 convolutions) for two predictions\n",
    "        output1 = layers.Conv2D(1, kernel_size=1, activation=activation_fn)(x)\n",
    "        output1 = layers.Reshape((32, 32), name=\"MNIST_output\")(output1)  # Ensure the final shape is (32, 32)\n",
    "        output2 = layers.Conv2D(1, kernel_size=1, activation=activation_fn)(x)\n",
    "        output2 = layers.Reshape((32, 32), name=\"Fashion_MNIST_output\")(output2)  # Ensure the final shape is (32, 32)\n",
    "\n",
    "        model = models.Model(inputs=inputs, outputs=[output1, output2])\n",
    "        optimizer = tf.keras.optimizers.Adam(learning_rate=lr)\n",
    "        model.compile(optimizer=optimizer, loss='mse', metrics=['mse', 'mse'])\n",
    "        return model\n",
    "\n",
    "# Instantiate the hypermodel.\n",
    "hypermodel = MyHyperModel(input_shape=(32, 32, 1), total_modules=3, conv_layers_per_module=2)"
   ]
  },
  {
   "cell_type": "code",
   "execution_count": 10,
   "metadata": {},
   "outputs": [
    {
     "name": "stdout",
     "output_type": "stream",
     "text": [
      "Reloading Tuner from tuner_directory/model_tuning_project/tuner0.json\n"
     ]
    }
   ],
   "source": [
    "# Set up the Keras Tuner using RandomSearch.\n",
    "tuner = kt.RandomSearch(\n",
    "    hypermodel,\n",
    "    objective='val_loss',\n",
    "    max_trials=50,\n",
    "    executions_per_trial=1,\n",
    "    directory='tuner_directory',\n",
    "    project_name='model_tuning_project',\n",
    "    seed=seed\n",
    ")"
   ]
  },
  {
   "cell_type": "code",
   "execution_count": 11,
   "metadata": {
    "ExecuteTime": {
     "end_time": "2025-02-05T14:35:08.056448Z",
     "start_time": "2025-02-05T14:35:00.345981Z"
    },
    "colab": {
     "base_uri": "https://localhost:8080/",
     "height": 758
    },
    "id": "BPbyEUjW0ElS",
    "outputId": "6fb77c61-8c25-4f6f-d4fb-e6260c458985"
   },
   "outputs": [],
   "source": [
    "batch_size = 32\n",
    "train_generator = datagenerator(mnist_x_train, fashion_mnist_x_train, batch_size)\n",
    "val_generator = datagenerator(mnist_x_val, fashion_mnist_x_val, batch_size)\n",
    "\n",
    "early_stop = EarlyStopping(monitor='val_loss', patience=5, restore_best_weights=True)\n",
    "reduce_lr = ReduceLROnPlateau(monitor='val_loss', factor=0.5, patience=3, min_lr=1e-6)\n",
    "\n",
    "tuner.search(\n",
    "    train_generator,\n",
    "    epochs=10,  # Keep low initially, increase later\n",
    "    steps_per_epoch=len(mnist_x_train) // batch_size,\n",
    "    validation_data=val_generator,\n",
    "    validation_steps=len(mnist_x_val) // batch_size,\n",
    "    callbacks=[early_stop, reduce_lr]\n",
    ")"
   ]
  },
  {
   "cell_type": "code",
   "execution_count": 12,
   "metadata": {
    "ExecuteTime": {
     "end_time": "2025-02-05T14:40:30.839869Z",
     "start_time": "2025-02-05T14:40:30.301686Z"
    },
    "id": "CZyrlTim606P"
   },
   "outputs": [
    {
     "name": "stdout",
     "output_type": "stream",
     "text": [
      "\n",
      "Best Initial Filters: 128\n",
      "Best Activation Function: relu\n",
      "Best Learning Rate: 0.001\n",
      "\n",
      "Epoch 1/100\n",
      "\u001b[1m1500/1500\u001b[0m \u001b[32m━━━━━━━━━━━━━━━━━━━━\u001b[0m\u001b[37m\u001b[0m \u001b[1m181s\u001b[0m 106ms/step - Fashion_MNIST_output_loss: 0.0141 - Fashion_MNIST_output_mse: 0.0141 - MNIST_output_loss: 0.0329 - MNIST_output_mse: 0.0329 - loss: 0.0469 - val_Fashion_MNIST_output_loss: 0.0025 - val_Fashion_MNIST_output_mse: 0.0025 - val_MNIST_output_loss: 0.0022 - val_MNIST_output_mse: 0.0022 - val_loss: 0.0048 - learning_rate: 0.0010\n",
      "Epoch 2/100\n",
      "\u001b[1m1500/1500\u001b[0m \u001b[32m━━━━━━━━━━━━━━━━━━━━\u001b[0m\u001b[37m\u001b[0m \u001b[1m162s\u001b[0m 108ms/step - Fashion_MNIST_output_loss: 0.0023 - Fashion_MNIST_output_mse: 0.0023 - MNIST_output_loss: 0.0019 - MNIST_output_mse: 0.0019 - loss: 0.0041 - val_Fashion_MNIST_output_loss: 0.0014 - val_Fashion_MNIST_output_mse: 0.0014 - val_MNIST_output_loss: 0.0014 - val_MNIST_output_mse: 0.0014 - val_loss: 0.0029 - learning_rate: 0.0010\n",
      "Epoch 3/100\n",
      "\u001b[1m1500/1500\u001b[0m \u001b[32m━━━━━━━━━━━━━━━━━━━━\u001b[0m\u001b[37m\u001b[0m \u001b[1m163s\u001b[0m 108ms/step - Fashion_MNIST_output_loss: 0.0018 - Fashion_MNIST_output_mse: 0.0018 - MNIST_output_loss: 0.0014 - MNIST_output_mse: 0.0014 - loss: 0.0032 - val_Fashion_MNIST_output_loss: 0.0014 - val_Fashion_MNIST_output_mse: 0.0014 - val_MNIST_output_loss: 0.0013 - val_MNIST_output_mse: 0.0013 - val_loss: 0.0027 - learning_rate: 0.0010\n",
      "Epoch 4/100\n",
      "\u001b[1m1500/1500\u001b[0m \u001b[32m━━━━━━━━━━━━━━━━━━━━\u001b[0m\u001b[37m\u001b[0m \u001b[1m158s\u001b[0m 105ms/step - Fashion_MNIST_output_loss: 0.0015 - Fashion_MNIST_output_mse: 0.0015 - MNIST_output_loss: 0.0012 - MNIST_output_mse: 0.0012 - loss: 0.0028 - val_Fashion_MNIST_output_loss: 0.0014 - val_Fashion_MNIST_output_mse: 0.0014 - val_MNIST_output_loss: 0.0013 - val_MNIST_output_mse: 0.0013 - val_loss: 0.0027 - learning_rate: 0.0010\n",
      "Epoch 5/100\n",
      "\u001b[1m1500/1500\u001b[0m \u001b[32m━━━━━━━━━━━━━━━━━━━━\u001b[0m\u001b[37m\u001b[0m \u001b[1m162s\u001b[0m 108ms/step - Fashion_MNIST_output_loss: 0.0014 - Fashion_MNIST_output_mse: 0.0014 - MNIST_output_loss: 0.0011 - MNIST_output_mse: 0.0011 - loss: 0.0025 - val_Fashion_MNIST_output_loss: 0.0012 - val_Fashion_MNIST_output_mse: 0.0012 - val_MNIST_output_loss: 9.3217e-04 - val_MNIST_output_mse: 9.3217e-04 - val_loss: 0.0021 - learning_rate: 0.0010\n",
      "Epoch 6/100\n",
      "\u001b[1m1500/1500\u001b[0m \u001b[32m━━━━━━━━━━━━━━━━━━━━\u001b[0m\u001b[37m\u001b[0m \u001b[1m162s\u001b[0m 108ms/step - Fashion_MNIST_output_loss: 0.0012 - Fashion_MNIST_output_mse: 0.0012 - MNIST_output_loss: 9.7487e-04 - MNIST_output_mse: 9.7487e-04 - loss: 0.0022 - val_Fashion_MNIST_output_loss: 8.9452e-04 - val_Fashion_MNIST_output_mse: 8.9452e-04 - val_MNIST_output_loss: 8.6541e-04 - val_MNIST_output_mse: 8.6541e-04 - val_loss: 0.0018 - learning_rate: 0.0010\n",
      "Epoch 7/100\n",
      "\u001b[1m1500/1500\u001b[0m \u001b[32m━━━━━━━━━━━━━━━━━━━━\u001b[0m\u001b[37m\u001b[0m \u001b[1m162s\u001b[0m 108ms/step - Fashion_MNIST_output_loss: 0.0011 - Fashion_MNIST_output_mse: 0.0011 - MNIST_output_loss: 8.9821e-04 - MNIST_output_mse: 8.9821e-04 - loss: 0.0020 - val_Fashion_MNIST_output_loss: 9.0865e-04 - val_Fashion_MNIST_output_mse: 9.0865e-04 - val_MNIST_output_loss: 8.0746e-04 - val_MNIST_output_mse: 8.0746e-04 - val_loss: 0.0017 - learning_rate: 0.0010\n",
      "Epoch 8/100\n",
      "\u001b[1m1500/1500\u001b[0m \u001b[32m━━━━━━━━━━━━━━━━━━━━\u001b[0m\u001b[37m\u001b[0m \u001b[1m162s\u001b[0m 108ms/step - Fashion_MNIST_output_loss: 0.0010 - Fashion_MNIST_output_mse: 0.0010 - MNIST_output_loss: 8.4652e-04 - MNIST_output_mse: 8.4652e-04 - loss: 0.0019 - val_Fashion_MNIST_output_loss: 9.2958e-04 - val_Fashion_MNIST_output_mse: 9.2958e-04 - val_MNIST_output_loss: 8.0024e-04 - val_MNIST_output_mse: 8.0024e-04 - val_loss: 0.0017 - learning_rate: 0.0010\n",
      "Epoch 9/100\n",
      "\u001b[1m1500/1500\u001b[0m \u001b[32m━━━━━━━━━━━━━━━━━━━━\u001b[0m\u001b[37m\u001b[0m \u001b[1m162s\u001b[0m 108ms/step - Fashion_MNIST_output_loss: 9.1037e-04 - Fashion_MNIST_output_mse: 9.1037e-04 - MNIST_output_loss: 7.7161e-04 - MNIST_output_mse: 7.7161e-04 - loss: 0.0017 - val_Fashion_MNIST_output_loss: 8.4805e-04 - val_Fashion_MNIST_output_mse: 8.4805e-04 - val_MNIST_output_loss: 7.3242e-04 - val_MNIST_output_mse: 7.3242e-04 - val_loss: 0.0016 - learning_rate: 0.0010\n",
      "Epoch 10/100\n",
      "\u001b[1m1500/1500\u001b[0m \u001b[32m━━━━━━━━━━━━━━━━━━━━\u001b[0m\u001b[37m\u001b[0m \u001b[1m162s\u001b[0m 108ms/step - Fashion_MNIST_output_loss: 8.9318e-04 - Fashion_MNIST_output_mse: 8.9318e-04 - MNIST_output_loss: 7.3765e-04 - MNIST_output_mse: 7.3765e-04 - loss: 0.0016 - val_Fashion_MNIST_output_loss: 7.2345e-04 - val_Fashion_MNIST_output_mse: 7.2345e-04 - val_MNIST_output_loss: 6.6831e-04 - val_MNIST_output_mse: 6.6831e-04 - val_loss: 0.0014 - learning_rate: 0.0010\n",
      "Epoch 11/100\n",
      "\u001b[1m1500/1500\u001b[0m \u001b[32m━━━━━━━━━━━━━━━━━━━━\u001b[0m\u001b[37m\u001b[0m \u001b[1m162s\u001b[0m 108ms/step - Fashion_MNIST_output_loss: 8.5097e-04 - Fashion_MNIST_output_mse: 8.5097e-04 - MNIST_output_loss: 7.2789e-04 - MNIST_output_mse: 7.2789e-04 - loss: 0.0016 - val_Fashion_MNIST_output_loss: 6.9302e-04 - val_Fashion_MNIST_output_mse: 6.9302e-04 - val_MNIST_output_loss: 6.4547e-04 - val_MNIST_output_mse: 6.4547e-04 - val_loss: 0.0013 - learning_rate: 0.0010\n",
      "Epoch 12/100\n",
      "\u001b[1m1500/1500\u001b[0m \u001b[32m━━━━━━━━━━━━━━━━━━━━\u001b[0m\u001b[37m\u001b[0m \u001b[1m162s\u001b[0m 108ms/step - Fashion_MNIST_output_loss: 7.7238e-04 - Fashion_MNIST_output_mse: 7.7238e-04 - MNIST_output_loss: 6.7176e-04 - MNIST_output_mse: 6.7176e-04 - loss: 0.0014 - val_Fashion_MNIST_output_loss: 8.7807e-04 - val_Fashion_MNIST_output_mse: 8.7807e-04 - val_MNIST_output_loss: 6.6977e-04 - val_MNIST_output_mse: 6.6977e-04 - val_loss: 0.0015 - learning_rate: 0.0010\n",
      "Epoch 13/100\n",
      "\u001b[1m1500/1500\u001b[0m \u001b[32m━━━━━━━━━━━━━━━━━━━━\u001b[0m\u001b[37m\u001b[0m \u001b[1m162s\u001b[0m 108ms/step - Fashion_MNIST_output_loss: 7.4969e-04 - Fashion_MNIST_output_mse: 7.4969e-04 - MNIST_output_loss: 6.5670e-04 - MNIST_output_mse: 6.5670e-04 - loss: 0.0014 - val_Fashion_MNIST_output_loss: 7.9779e-04 - val_Fashion_MNIST_output_mse: 7.9779e-04 - val_MNIST_output_loss: 6.2908e-04 - val_MNIST_output_mse: 6.2908e-04 - val_loss: 0.0014 - learning_rate: 0.0010\n",
      "Epoch 14/100\n",
      "\u001b[1m1500/1500\u001b[0m \u001b[32m━━━━━━━━━━━━━━━━━━━━\u001b[0m\u001b[37m\u001b[0m \u001b[1m162s\u001b[0m 108ms/step - Fashion_MNIST_output_loss: 7.3025e-04 - Fashion_MNIST_output_mse: 7.3025e-04 - MNIST_output_loss: 6.2467e-04 - MNIST_output_mse: 6.2467e-04 - loss: 0.0014 - val_Fashion_MNIST_output_loss: 6.3206e-04 - val_Fashion_MNIST_output_mse: 6.3206e-04 - val_MNIST_output_loss: 6.1788e-04 - val_MNIST_output_mse: 6.1788e-04 - val_loss: 0.0012 - learning_rate: 0.0010\n",
      "Epoch 15/100\n",
      "\u001b[1m1500/1500\u001b[0m \u001b[32m━━━━━━━━━━━━━━━━━━━━\u001b[0m\u001b[37m\u001b[0m \u001b[1m162s\u001b[0m 108ms/step - Fashion_MNIST_output_loss: 6.9156e-04 - Fashion_MNIST_output_mse: 6.9156e-04 - MNIST_output_loss: 6.0673e-04 - MNIST_output_mse: 6.0673e-04 - loss: 0.0013 - val_Fashion_MNIST_output_loss: 6.3672e-04 - val_Fashion_MNIST_output_mse: 6.3672e-04 - val_MNIST_output_loss: 6.0502e-04 - val_MNIST_output_mse: 6.0502e-04 - val_loss: 0.0012 - learning_rate: 0.0010\n",
      "Epoch 16/100\n",
      "\u001b[1m1500/1500\u001b[0m \u001b[32m━━━━━━━━━━━━━━━━━━━━\u001b[0m\u001b[37m\u001b[0m \u001b[1m162s\u001b[0m 108ms/step - Fashion_MNIST_output_loss: 6.4631e-04 - Fashion_MNIST_output_mse: 6.4631e-04 - MNIST_output_loss: 5.7572e-04 - MNIST_output_mse: 5.7572e-04 - loss: 0.0012 - val_Fashion_MNIST_output_loss: 6.1748e-04 - val_Fashion_MNIST_output_mse: 6.1748e-04 - val_MNIST_output_loss: 5.8596e-04 - val_MNIST_output_mse: 5.8596e-04 - val_loss: 0.0012 - learning_rate: 0.0010\n",
      "Epoch 17/100\n",
      "\u001b[1m1500/1500\u001b[0m \u001b[32m━━━━━━━━━━━━━━━━━━━━\u001b[0m\u001b[37m\u001b[0m \u001b[1m161s\u001b[0m 107ms/step - Fashion_MNIST_output_loss: 6.3921e-04 - Fashion_MNIST_output_mse: 6.3921e-04 - MNIST_output_loss: 5.7711e-04 - MNIST_output_mse: 5.7711e-04 - loss: 0.0012 - val_Fashion_MNIST_output_loss: 0.0038 - val_Fashion_MNIST_output_mse: 0.0038 - val_MNIST_output_loss: 0.0016 - val_MNIST_output_mse: 0.0016 - val_loss: 0.0054 - learning_rate: 0.0010\n",
      "Epoch 18/100\n",
      "\u001b[1m1500/1500\u001b[0m \u001b[32m━━━━━━━━━━━━━━━━━━━━\u001b[0m\u001b[37m\u001b[0m \u001b[1m162s\u001b[0m 108ms/step - Fashion_MNIST_output_loss: 6.2850e-04 - Fashion_MNIST_output_mse: 6.2850e-04 - MNIST_output_loss: 5.6954e-04 - MNIST_output_mse: 5.6954e-04 - loss: 0.0012 - val_Fashion_MNIST_output_loss: 5.4923e-04 - val_Fashion_MNIST_output_mse: 5.4923e-04 - val_MNIST_output_loss: 5.3469e-04 - val_MNIST_output_mse: 5.3469e-04 - val_loss: 0.0011 - learning_rate: 0.0010\n",
      "Epoch 19/100\n",
      "\u001b[1m1500/1500\u001b[0m \u001b[32m━━━━━━━━━━━━━━━━━━━━\u001b[0m\u001b[37m\u001b[0m \u001b[1m163s\u001b[0m 108ms/step - Fashion_MNIST_output_loss: 5.9880e-04 - Fashion_MNIST_output_mse: 5.9880e-04 - MNIST_output_loss: 5.4262e-04 - MNIST_output_mse: 5.4262e-04 - loss: 0.0011 - val_Fashion_MNIST_output_loss: 5.5742e-04 - val_Fashion_MNIST_output_mse: 5.5742e-04 - val_MNIST_output_loss: 5.3780e-04 - val_MNIST_output_mse: 5.3780e-04 - val_loss: 0.0011 - learning_rate: 0.0010\n",
      "Epoch 20/100\n",
      "\u001b[1m1500/1500\u001b[0m \u001b[32m━━━━━━━━━━━━━━━━━━━━\u001b[0m\u001b[37m\u001b[0m \u001b[1m164s\u001b[0m 109ms/step - Fashion_MNIST_output_loss: 5.7005e-04 - Fashion_MNIST_output_mse: 5.7005e-04 - MNIST_output_loss: 5.2183e-04 - MNIST_output_mse: 5.2183e-04 - loss: 0.0011 - val_Fashion_MNIST_output_loss: 6.9819e-04 - val_Fashion_MNIST_output_mse: 6.9819e-04 - val_MNIST_output_loss: 5.3567e-04 - val_MNIST_output_mse: 5.3567e-04 - val_loss: 0.0012 - learning_rate: 0.0010\n",
      "Epoch 21/100\n",
      "\u001b[1m1500/1500\u001b[0m \u001b[32m━━━━━━━━━━━━━━━━━━━━\u001b[0m\u001b[37m\u001b[0m \u001b[1m163s\u001b[0m 109ms/step - Fashion_MNIST_output_loss: 5.8928e-04 - Fashion_MNIST_output_mse: 5.8928e-04 - MNIST_output_loss: 5.3311e-04 - MNIST_output_mse: 5.3311e-04 - loss: 0.0011 - val_Fashion_MNIST_output_loss: 5.1786e-04 - val_Fashion_MNIST_output_mse: 5.1786e-04 - val_MNIST_output_loss: 5.0946e-04 - val_MNIST_output_mse: 5.0946e-04 - val_loss: 0.0010 - learning_rate: 0.0010\n",
      "Epoch 22/100\n",
      "\u001b[1m1500/1500\u001b[0m \u001b[32m━━━━━━━━━━━━━━━━━━━━\u001b[0m\u001b[37m\u001b[0m \u001b[1m163s\u001b[0m 109ms/step - Fashion_MNIST_output_loss: 5.6496e-04 - Fashion_MNIST_output_mse: 5.6496e-04 - MNIST_output_loss: 5.1971e-04 - MNIST_output_mse: 5.1971e-04 - loss: 0.0011 - val_Fashion_MNIST_output_loss: 5.4720e-04 - val_Fashion_MNIST_output_mse: 5.4720e-04 - val_MNIST_output_loss: 4.9882e-04 - val_MNIST_output_mse: 4.9882e-04 - val_loss: 0.0010 - learning_rate: 0.0010\n",
      "Epoch 23/100\n",
      "\u001b[1m1500/1500\u001b[0m \u001b[32m━━━━━━━━━━━━━━━━━━━━\u001b[0m\u001b[37m\u001b[0m \u001b[1m164s\u001b[0m 109ms/step - Fashion_MNIST_output_loss: 5.4133e-04 - Fashion_MNIST_output_mse: 5.4133e-04 - MNIST_output_loss: 5.0018e-04 - MNIST_output_mse: 5.0018e-04 - loss: 0.0010 - val_Fashion_MNIST_output_loss: 5.2247e-04 - val_Fashion_MNIST_output_mse: 5.2247e-04 - val_MNIST_output_loss: 5.1636e-04 - val_MNIST_output_mse: 5.1636e-04 - val_loss: 0.0010 - learning_rate: 0.0010\n",
      "Epoch 24/100\n",
      "\u001b[1m1500/1500\u001b[0m \u001b[32m━━━━━━━━━━━━━━━━━━━━\u001b[0m\u001b[37m\u001b[0m \u001b[1m163s\u001b[0m 109ms/step - Fashion_MNIST_output_loss: 5.0138e-04 - Fashion_MNIST_output_mse: 5.0138e-04 - MNIST_output_loss: 4.7420e-04 - MNIST_output_mse: 4.7420e-04 - loss: 9.7559e-04 - val_Fashion_MNIST_output_loss: 4.7229e-04 - val_Fashion_MNIST_output_mse: 4.7229e-04 - val_MNIST_output_loss: 4.6076e-04 - val_MNIST_output_mse: 4.6076e-04 - val_loss: 9.3304e-04 - learning_rate: 5.0000e-04\n",
      "Epoch 25/100\n",
      "\u001b[1m1500/1500\u001b[0m \u001b[32m━━━━━━━━━━━━━━━━━━━━\u001b[0m\u001b[37m\u001b[0m \u001b[1m163s\u001b[0m 109ms/step - Fashion_MNIST_output_loss: 4.8989e-04 - Fashion_MNIST_output_mse: 4.8989e-04 - MNIST_output_loss: 4.6408e-04 - MNIST_output_mse: 4.6408e-04 - loss: 9.5397e-04 - val_Fashion_MNIST_output_loss: 4.6883e-04 - val_Fashion_MNIST_output_mse: 4.6883e-04 - val_MNIST_output_loss: 4.5469e-04 - val_MNIST_output_mse: 4.5469e-04 - val_loss: 9.2353e-04 - learning_rate: 5.0000e-04\n",
      "Epoch 26/100\n",
      "\u001b[1m1500/1500\u001b[0m \u001b[32m━━━━━━━━━━━━━━━━━━━━\u001b[0m\u001b[37m\u001b[0m \u001b[1m163s\u001b[0m 109ms/step - Fashion_MNIST_output_loss: 4.7939e-04 - Fashion_MNIST_output_mse: 4.7939e-04 - MNIST_output_loss: 4.5471e-04 - MNIST_output_mse: 4.5471e-04 - loss: 9.3410e-04 - val_Fashion_MNIST_output_loss: 5.2483e-04 - val_Fashion_MNIST_output_mse: 5.2483e-04 - val_MNIST_output_loss: 4.5646e-04 - val_MNIST_output_mse: 4.5646e-04 - val_loss: 9.8129e-04 - learning_rate: 5.0000e-04\n",
      "Epoch 27/100\n",
      "\u001b[1m1500/1500\u001b[0m \u001b[32m━━━━━━━━━━━━━━━━━━━━\u001b[0m\u001b[37m\u001b[0m \u001b[1m163s\u001b[0m 108ms/step - Fashion_MNIST_output_loss: 4.8103e-04 - Fashion_MNIST_output_mse: 4.8103e-04 - MNIST_output_loss: 4.5255e-04 - MNIST_output_mse: 4.5255e-04 - loss: 9.3358e-04 - val_Fashion_MNIST_output_loss: 4.7406e-04 - val_Fashion_MNIST_output_mse: 4.7406e-04 - val_MNIST_output_loss: 4.4558e-04 - val_MNIST_output_mse: 4.4558e-04 - val_loss: 9.1964e-04 - learning_rate: 5.0000e-04\n",
      "Epoch 28/100\n",
      "\u001b[1m1500/1500\u001b[0m \u001b[32m━━━━━━━━━━━━━━━━━━━━\u001b[0m\u001b[37m\u001b[0m \u001b[1m163s\u001b[0m 109ms/step - Fashion_MNIST_output_loss: 4.7241e-04 - Fashion_MNIST_output_mse: 4.7241e-04 - MNIST_output_loss: 4.4886e-04 - MNIST_output_mse: 4.4886e-04 - loss: 9.2126e-04 - val_Fashion_MNIST_output_loss: 4.4715e-04 - val_Fashion_MNIST_output_mse: 4.4715e-04 - val_MNIST_output_loss: 4.3884e-04 - val_MNIST_output_mse: 4.3884e-04 - val_loss: 8.8599e-04 - learning_rate: 5.0000e-04\n",
      "Epoch 29/100\n",
      "\u001b[1m1500/1500\u001b[0m \u001b[32m━━━━━━━━━━━━━━━━━━━━\u001b[0m\u001b[37m\u001b[0m \u001b[1m163s\u001b[0m 109ms/step - Fashion_MNIST_output_loss: 4.6154e-04 - Fashion_MNIST_output_mse: 4.6154e-04 - MNIST_output_loss: 4.4330e-04 - MNIST_output_mse: 4.4330e-04 - loss: 9.0484e-04 - val_Fashion_MNIST_output_loss: 5.7191e-04 - val_Fashion_MNIST_output_mse: 5.7191e-04 - val_MNIST_output_loss: 4.5174e-04 - val_MNIST_output_mse: 4.5174e-04 - val_loss: 0.0010 - learning_rate: 5.0000e-04\n",
      "Epoch 30/100\n",
      "\u001b[1m1500/1500\u001b[0m \u001b[32m━━━━━━━━━━━━━━━━━━━━\u001b[0m\u001b[37m\u001b[0m \u001b[1m163s\u001b[0m 108ms/step - Fashion_MNIST_output_loss: 4.4564e-04 - Fashion_MNIST_output_mse: 4.4564e-04 - MNIST_output_loss: 4.3016e-04 - MNIST_output_mse: 4.3016e-04 - loss: 8.7579e-04 - val_Fashion_MNIST_output_loss: 4.2828e-04 - val_Fashion_MNIST_output_mse: 4.2828e-04 - val_MNIST_output_loss: 4.1685e-04 - val_MNIST_output_mse: 4.1685e-04 - val_loss: 8.4513e-04 - learning_rate: 2.5000e-04\n",
      "Epoch 31/100\n",
      "\u001b[1m1500/1500\u001b[0m \u001b[32m━━━━━━━━━━━━━━━━━━━━\u001b[0m\u001b[37m\u001b[0m \u001b[1m163s\u001b[0m 108ms/step - Fashion_MNIST_output_loss: 4.2870e-04 - Fashion_MNIST_output_mse: 4.2870e-04 - MNIST_output_loss: 4.1298e-04 - MNIST_output_mse: 4.1298e-04 - loss: 8.4168e-04 - val_Fashion_MNIST_output_loss: 4.3151e-04 - val_Fashion_MNIST_output_mse: 4.3151e-04 - val_MNIST_output_loss: 4.2550e-04 - val_MNIST_output_mse: 4.2550e-04 - val_loss: 8.5701e-04 - learning_rate: 2.5000e-04\n",
      "Epoch 32/100\n",
      "\u001b[1m1500/1500\u001b[0m \u001b[32m━━━━━━━━━━━━━━━━━━━━\u001b[0m\u001b[37m\u001b[0m \u001b[1m163s\u001b[0m 109ms/step - Fashion_MNIST_output_loss: 4.2377e-04 - Fashion_MNIST_output_mse: 4.2377e-04 - MNIST_output_loss: 4.0905e-04 - MNIST_output_mse: 4.0905e-04 - loss: 8.3281e-04 - val_Fashion_MNIST_output_loss: 4.2937e-04 - val_Fashion_MNIST_output_mse: 4.2937e-04 - val_MNIST_output_loss: 4.2053e-04 - val_MNIST_output_mse: 4.2053e-04 - val_loss: 8.4990e-04 - learning_rate: 2.5000e-04\n",
      "Epoch 33/100\n",
      "\u001b[1m1500/1500\u001b[0m \u001b[32m━━━━━━━━━━━━━━━━━━━━\u001b[0m\u001b[37m\u001b[0m \u001b[1m163s\u001b[0m 109ms/step - Fashion_MNIST_output_loss: 4.2714e-04 - Fashion_MNIST_output_mse: 4.2714e-04 - MNIST_output_loss: 4.1262e-04 - MNIST_output_mse: 4.1262e-04 - loss: 8.3977e-04 - val_Fashion_MNIST_output_loss: 4.1725e-04 - val_Fashion_MNIST_output_mse: 4.1725e-04 - val_MNIST_output_loss: 4.1239e-04 - val_MNIST_output_mse: 4.1239e-04 - val_loss: 8.2964e-04 - learning_rate: 2.5000e-04\n",
      "Epoch 34/100\n",
      "\u001b[1m1500/1500\u001b[0m \u001b[32m━━━━━━━━━━━━━━━━━━━━\u001b[0m\u001b[37m\u001b[0m \u001b[1m163s\u001b[0m 109ms/step - Fashion_MNIST_output_loss: 4.2354e-04 - Fashion_MNIST_output_mse: 4.2354e-04 - MNIST_output_loss: 4.0785e-04 - MNIST_output_mse: 4.0785e-04 - loss: 8.3139e-04 - val_Fashion_MNIST_output_loss: 4.1763e-04 - val_Fashion_MNIST_output_mse: 4.1763e-04 - val_MNIST_output_loss: 4.1223e-04 - val_MNIST_output_mse: 4.1223e-04 - val_loss: 8.2986e-04 - learning_rate: 2.5000e-04\n",
      "Epoch 35/100\n",
      "\u001b[1m1500/1500\u001b[0m \u001b[32m━━━━━━━━━━━━━━━━━━━━\u001b[0m\u001b[37m\u001b[0m \u001b[1m163s\u001b[0m 108ms/step - Fashion_MNIST_output_loss: 4.2667e-04 - Fashion_MNIST_output_mse: 4.2667e-04 - MNIST_output_loss: 4.1376e-04 - MNIST_output_mse: 4.1376e-04 - loss: 8.4043e-04 - val_Fashion_MNIST_output_loss: 4.2040e-04 - val_Fashion_MNIST_output_mse: 4.2040e-04 - val_MNIST_output_loss: 4.1821e-04 - val_MNIST_output_mse: 4.1821e-04 - val_loss: 8.3861e-04 - learning_rate: 2.5000e-04\n",
      "Epoch 36/100\n",
      "\u001b[1m1500/1500\u001b[0m \u001b[32m━━━━━━━━━━━━━━━━━━━━\u001b[0m\u001b[37m\u001b[0m \u001b[1m163s\u001b[0m 109ms/step - Fashion_MNIST_output_loss: 4.1764e-04 - Fashion_MNIST_output_mse: 4.1764e-04 - MNIST_output_loss: 4.0367e-04 - MNIST_output_mse: 4.0367e-04 - loss: 8.2131e-04 - val_Fashion_MNIST_output_loss: 4.3024e-04 - val_Fashion_MNIST_output_mse: 4.3024e-04 - val_MNIST_output_loss: 4.1949e-04 - val_MNIST_output_mse: 4.1949e-04 - val_loss: 8.4973e-04 - learning_rate: 2.5000e-04\n",
      "Epoch 37/100\n",
      "\u001b[1m1500/1500\u001b[0m \u001b[32m━━━━━━━━━━━━━━━━━━━━\u001b[0m\u001b[37m\u001b[0m \u001b[1m164s\u001b[0m 109ms/step - Fashion_MNIST_output_loss: 4.1832e-04 - Fashion_MNIST_output_mse: 4.1832e-04 - MNIST_output_loss: 4.0613e-04 - MNIST_output_mse: 4.0613e-04 - loss: 8.2445e-04 - val_Fashion_MNIST_output_loss: 4.5746e-04 - val_Fashion_MNIST_output_mse: 4.5746e-04 - val_MNIST_output_loss: 4.0810e-04 - val_MNIST_output_mse: 4.0810e-04 - val_loss: 8.6556e-04 - learning_rate: 2.5000e-04\n",
      "Epoch 38/100\n",
      "\u001b[1m1500/1500\u001b[0m \u001b[32m━━━━━━━━━━━━━━━━━━━━\u001b[0m\u001b[37m\u001b[0m \u001b[1m163s\u001b[0m 109ms/step - Fashion_MNIST_output_loss: 4.1516e-04 - Fashion_MNIST_output_mse: 4.1516e-04 - MNIST_output_loss: 4.0307e-04 - MNIST_output_mse: 4.0307e-04 - loss: 8.1822e-04 - val_Fashion_MNIST_output_loss: 4.0948e-04 - val_Fashion_MNIST_output_mse: 4.0948e-04 - val_MNIST_output_loss: 4.0257e-04 - val_MNIST_output_mse: 4.0257e-04 - val_loss: 8.1205e-04 - learning_rate: 2.5000e-04\n",
      "Epoch 39/100\n",
      "\u001b[1m1500/1500\u001b[0m \u001b[32m━━━━━━━━━━━━━━━━━━━━\u001b[0m\u001b[37m\u001b[0m \u001b[1m163s\u001b[0m 109ms/step - Fashion_MNIST_output_loss: 4.1100e-04 - Fashion_MNIST_output_mse: 4.1100e-04 - MNIST_output_loss: 4.0066e-04 - MNIST_output_mse: 4.0066e-04 - loss: 8.1166e-04 - val_Fashion_MNIST_output_loss: 4.0716e-04 - val_Fashion_MNIST_output_mse: 4.0716e-04 - val_MNIST_output_loss: 4.0615e-04 - val_MNIST_output_mse: 4.0615e-04 - val_loss: 8.1331e-04 - learning_rate: 1.2500e-04\n",
      "Epoch 40/100\n",
      "\u001b[1m1500/1500\u001b[0m \u001b[32m━━━━━━━━━━━━━━━━━━━━\u001b[0m\u001b[37m\u001b[0m \u001b[1m163s\u001b[0m 109ms/step - Fashion_MNIST_output_loss: 4.0333e-04 - Fashion_MNIST_output_mse: 4.0333e-04 - MNIST_output_loss: 3.9319e-04 - MNIST_output_mse: 3.9319e-04 - loss: 7.9652e-04 - val_Fashion_MNIST_output_loss: 5.0950e-04 - val_Fashion_MNIST_output_mse: 5.0950e-04 - val_MNIST_output_loss: 4.1550e-04 - val_MNIST_output_mse: 4.1550e-04 - val_loss: 9.2500e-04 - learning_rate: 1.2500e-04\n",
      "Epoch 41/100\n",
      "\u001b[1m1500/1500\u001b[0m \u001b[32m━━━━━━━━━━━━━━━━━━━━\u001b[0m\u001b[37m\u001b[0m \u001b[1m163s\u001b[0m 109ms/step - Fashion_MNIST_output_loss: 4.0444e-04 - Fashion_MNIST_output_mse: 4.0444e-04 - MNIST_output_loss: 3.9399e-04 - MNIST_output_mse: 3.9399e-04 - loss: 7.9842e-04 - val_Fashion_MNIST_output_loss: 4.1259e-04 - val_Fashion_MNIST_output_mse: 4.1259e-04 - val_MNIST_output_loss: 3.9684e-04 - val_MNIST_output_mse: 3.9684e-04 - val_loss: 8.0943e-04 - learning_rate: 1.2500e-04\n",
      "Epoch 42/100\n",
      "\u001b[1m1500/1500\u001b[0m \u001b[32m━━━━━━━━━━━━━━━━━━━━\u001b[0m\u001b[37m\u001b[0m \u001b[1m163s\u001b[0m 109ms/step - Fashion_MNIST_output_loss: 4.0251e-04 - Fashion_MNIST_output_mse: 4.0251e-04 - MNIST_output_loss: 3.9270e-04 - MNIST_output_mse: 3.9270e-04 - loss: 7.9521e-04 - val_Fashion_MNIST_output_loss: 3.9648e-04 - val_Fashion_MNIST_output_mse: 3.9648e-04 - val_MNIST_output_loss: 3.9140e-04 - val_MNIST_output_mse: 3.9140e-04 - val_loss: 7.8788e-04 - learning_rate: 1.2500e-04\n",
      "Epoch 43/100\n",
      "\u001b[1m1500/1500\u001b[0m \u001b[32m━━━━━━━━━━━━━━━━━━━━\u001b[0m\u001b[37m\u001b[0m \u001b[1m163s\u001b[0m 109ms/step - Fashion_MNIST_output_loss: 4.0132e-04 - Fashion_MNIST_output_mse: 4.0132e-04 - MNIST_output_loss: 3.9073e-04 - MNIST_output_mse: 3.9073e-04 - loss: 7.9205e-04 - val_Fashion_MNIST_output_loss: 3.9964e-04 - val_Fashion_MNIST_output_mse: 3.9964e-04 - val_MNIST_output_loss: 3.9367e-04 - val_MNIST_output_mse: 3.9367e-04 - val_loss: 7.9331e-04 - learning_rate: 1.2500e-04\n",
      "Epoch 44/100\n",
      "\u001b[1m1500/1500\u001b[0m \u001b[32m━━━━━━━━━━━━━━━━━━━━\u001b[0m\u001b[37m\u001b[0m \u001b[1m165s\u001b[0m 110ms/step - Fashion_MNIST_output_loss: 4.0008e-04 - Fashion_MNIST_output_mse: 4.0008e-04 - MNIST_output_loss: 3.9079e-04 - MNIST_output_mse: 3.9079e-04 - loss: 7.9087e-04 - val_Fashion_MNIST_output_loss: 3.9291e-04 - val_Fashion_MNIST_output_mse: 3.9291e-04 - val_MNIST_output_loss: 3.8910e-04 - val_MNIST_output_mse: 3.8910e-04 - val_loss: 7.8201e-04 - learning_rate: 6.2500e-05\n",
      "Epoch 45/100\n",
      "\u001b[1m1500/1500\u001b[0m \u001b[32m━━━━━━━━━━━━━━━━━━━━\u001b[0m\u001b[37m\u001b[0m \u001b[1m173s\u001b[0m 115ms/step - Fashion_MNIST_output_loss: 3.9861e-04 - Fashion_MNIST_output_mse: 3.9861e-04 - MNIST_output_loss: 3.8947e-04 - MNIST_output_mse: 3.8947e-04 - loss: 7.8808e-04 - val_Fashion_MNIST_output_loss: 3.9388e-04 - val_Fashion_MNIST_output_mse: 3.9388e-04 - val_MNIST_output_loss: 3.8698e-04 - val_MNIST_output_mse: 3.8698e-04 - val_loss: 7.8086e-04 - learning_rate: 6.2500e-05\n",
      "Epoch 46/100\n",
      "\u001b[1m1500/1500\u001b[0m \u001b[32m━━━━━━━━━━━━━━━━━━━━\u001b[0m\u001b[37m\u001b[0m \u001b[1m173s\u001b[0m 115ms/step - Fashion_MNIST_output_loss: 3.9143e-04 - Fashion_MNIST_output_mse: 3.9143e-04 - MNIST_output_loss: 3.8320e-04 - MNIST_output_mse: 3.8320e-04 - loss: 7.7462e-04 - val_Fashion_MNIST_output_loss: 3.9274e-04 - val_Fashion_MNIST_output_mse: 3.9274e-04 - val_MNIST_output_loss: 3.8832e-04 - val_MNIST_output_mse: 3.8832e-04 - val_loss: 7.8106e-04 - learning_rate: 6.2500e-05\n",
      "Epoch 47/100\n",
      "\u001b[1m1500/1500\u001b[0m \u001b[32m━━━━━━━━━━━━━━━━━━━━\u001b[0m\u001b[37m\u001b[0m \u001b[1m175s\u001b[0m 117ms/step - Fashion_MNIST_output_loss: 3.9843e-04 - Fashion_MNIST_output_mse: 3.9843e-04 - MNIST_output_loss: 3.9005e-04 - MNIST_output_mse: 3.9005e-04 - loss: 7.8848e-04 - val_Fashion_MNIST_output_loss: 3.8868e-04 - val_Fashion_MNIST_output_mse: 3.8868e-04 - val_MNIST_output_loss: 3.8421e-04 - val_MNIST_output_mse: 3.8421e-04 - val_loss: 7.7288e-04 - learning_rate: 6.2500e-05\n",
      "Epoch 48/100\n",
      "\u001b[1m1500/1500\u001b[0m \u001b[32m━━━━━━━━━━━━━━━━━━━━\u001b[0m\u001b[37m\u001b[0m \u001b[1m171s\u001b[0m 114ms/step - Fashion_MNIST_output_loss: 3.9356e-04 - Fashion_MNIST_output_mse: 3.9356e-04 - MNIST_output_loss: 3.8463e-04 - MNIST_output_mse: 3.8463e-04 - loss: 7.7819e-04 - val_Fashion_MNIST_output_loss: 3.9253e-04 - val_Fashion_MNIST_output_mse: 3.9253e-04 - val_MNIST_output_loss: 3.8601e-04 - val_MNIST_output_mse: 3.8601e-04 - val_loss: 7.7855e-04 - learning_rate: 6.2500e-05\n",
      "Epoch 49/100\n",
      "\u001b[1m1500/1500\u001b[0m \u001b[32m━━━━━━━━━━━━━━━━━━━━\u001b[0m\u001b[37m\u001b[0m \u001b[1m174s\u001b[0m 116ms/step - Fashion_MNIST_output_loss: 3.9601e-04 - Fashion_MNIST_output_mse: 3.9601e-04 - MNIST_output_loss: 3.8817e-04 - MNIST_output_mse: 3.8817e-04 - loss: 7.8419e-04 - val_Fashion_MNIST_output_loss: 3.9315e-04 - val_Fashion_MNIST_output_mse: 3.9315e-04 - val_MNIST_output_loss: 3.8802e-04 - val_MNIST_output_mse: 3.8802e-04 - val_loss: 7.8117e-04 - learning_rate: 3.1250e-05\n",
      "Epoch 50/100\n",
      "\u001b[1m1500/1500\u001b[0m \u001b[32m━━━━━━━━━━━━━━━━━━━━\u001b[0m\u001b[37m\u001b[0m \u001b[1m175s\u001b[0m 116ms/step - Fashion_MNIST_output_loss: 3.9048e-04 - Fashion_MNIST_output_mse: 3.9048e-04 - MNIST_output_loss: 3.8268e-04 - MNIST_output_mse: 3.8268e-04 - loss: 7.7315e-04 - val_Fashion_MNIST_output_loss: 3.8837e-04 - val_Fashion_MNIST_output_mse: 3.8837e-04 - val_MNIST_output_loss: 3.8236e-04 - val_MNIST_output_mse: 3.8236e-04 - val_loss: 7.7073e-04 - learning_rate: 3.1250e-05\n",
      "Epoch 51/100\n",
      "\u001b[1m1500/1500\u001b[0m \u001b[32m━━━━━━━━━━━━━━━━━━━━\u001b[0m\u001b[37m\u001b[0m \u001b[1m172s\u001b[0m 115ms/step - Fashion_MNIST_output_loss: 3.8728e-04 - Fashion_MNIST_output_mse: 3.8728e-04 - MNIST_output_loss: 3.7916e-04 - MNIST_output_mse: 3.7916e-04 - loss: 7.6643e-04 - val_Fashion_MNIST_output_loss: 3.8273e-04 - val_Fashion_MNIST_output_mse: 3.8273e-04 - val_MNIST_output_loss: 3.7868e-04 - val_MNIST_output_mse: 3.7868e-04 - val_loss: 7.6141e-04 - learning_rate: 3.1250e-05\n",
      "Epoch 52/100\n",
      "\u001b[1m1500/1500\u001b[0m \u001b[32m━━━━━━━━━━━━━━━━━━━━\u001b[0m\u001b[37m\u001b[0m \u001b[1m171s\u001b[0m 114ms/step - Fashion_MNIST_output_loss: 3.8721e-04 - Fashion_MNIST_output_mse: 3.8721e-04 - MNIST_output_loss: 3.7928e-04 - MNIST_output_mse: 3.7928e-04 - loss: 7.6649e-04 - val_Fashion_MNIST_output_loss: 3.9117e-04 - val_Fashion_MNIST_output_mse: 3.9117e-04 - val_MNIST_output_loss: 3.8655e-04 - val_MNIST_output_mse: 3.8655e-04 - val_loss: 7.7772e-04 - learning_rate: 3.1250e-05\n",
      "Epoch 53/100\n",
      "\u001b[1m1500/1500\u001b[0m \u001b[32m━━━━━━━━━━━━━━━━━━━━\u001b[0m\u001b[37m\u001b[0m \u001b[1m172s\u001b[0m 115ms/step - Fashion_MNIST_output_loss: 3.8891e-04 - Fashion_MNIST_output_mse: 3.8891e-04 - MNIST_output_loss: 3.8105e-04 - MNIST_output_mse: 3.8105e-04 - loss: 7.6996e-04 - val_Fashion_MNIST_output_loss: 3.8208e-04 - val_Fashion_MNIST_output_mse: 3.8208e-04 - val_MNIST_output_loss: 3.7836e-04 - val_MNIST_output_mse: 3.7836e-04 - val_loss: 7.6043e-04 - learning_rate: 3.1250e-05\n",
      "Epoch 54/100\n",
      "\u001b[1m1500/1500\u001b[0m \u001b[32m━━━━━━━━━━━━━━━━━━━━\u001b[0m\u001b[37m\u001b[0m \u001b[1m172s\u001b[0m 114ms/step - Fashion_MNIST_output_loss: 3.8449e-04 - Fashion_MNIST_output_mse: 3.8449e-04 - MNIST_output_loss: 3.7714e-04 - MNIST_output_mse: 3.7714e-04 - loss: 7.6163e-04 - val_Fashion_MNIST_output_loss: 3.9132e-04 - val_Fashion_MNIST_output_mse: 3.9132e-04 - val_MNIST_output_loss: 3.8458e-04 - val_MNIST_output_mse: 3.8458e-04 - val_loss: 7.7590e-04 - learning_rate: 1.5625e-05\n",
      "Epoch 55/100\n",
      "\u001b[1m1500/1500\u001b[0m \u001b[32m━━━━━━━━━━━━━━━━━━━━\u001b[0m\u001b[37m\u001b[0m \u001b[1m175s\u001b[0m 117ms/step - Fashion_MNIST_output_loss: 3.9004e-04 - Fashion_MNIST_output_mse: 3.9004e-04 - MNIST_output_loss: 3.8231e-04 - MNIST_output_mse: 3.8231e-04 - loss: 7.7234e-04 - val_Fashion_MNIST_output_loss: 3.8621e-04 - val_Fashion_MNIST_output_mse: 3.8621e-04 - val_MNIST_output_loss: 3.8011e-04 - val_MNIST_output_mse: 3.8011e-04 - val_loss: 7.6632e-04 - learning_rate: 1.5625e-05\n",
      "Epoch 56/100\n",
      "\u001b[1m1500/1500\u001b[0m \u001b[32m━━━━━━━━━━━━━━━━━━━━\u001b[0m\u001b[37m\u001b[0m \u001b[1m175s\u001b[0m 117ms/step - Fashion_MNIST_output_loss: 3.8480e-04 - Fashion_MNIST_output_mse: 3.8480e-04 - MNIST_output_loss: 3.7769e-04 - MNIST_output_mse: 3.7769e-04 - loss: 7.6249e-04 - val_Fashion_MNIST_output_loss: 3.8407e-04 - val_Fashion_MNIST_output_mse: 3.8407e-04 - val_MNIST_output_loss: 3.7847e-04 - val_MNIST_output_mse: 3.7847e-04 - val_loss: 7.6253e-04 - learning_rate: 1.5625e-05\n",
      "Epoch 57/100\n",
      "\u001b[1m1500/1500\u001b[0m \u001b[32m━━━━━━━━━━━━━━━━━━━━\u001b[0m\u001b[37m\u001b[0m \u001b[1m175s\u001b[0m 116ms/step - Fashion_MNIST_output_loss: 3.8199e-04 - Fashion_MNIST_output_mse: 3.8199e-04 - MNIST_output_loss: 3.7459e-04 - MNIST_output_mse: 3.7459e-04 - loss: 7.5658e-04 - val_Fashion_MNIST_output_loss: 3.8189e-04 - val_Fashion_MNIST_output_mse: 3.8189e-04 - val_MNIST_output_loss: 3.7764e-04 - val_MNIST_output_mse: 3.7764e-04 - val_loss: 7.5953e-04 - learning_rate: 1.5625e-05\n",
      "Epoch 58/100\n",
      "\u001b[1m1500/1500\u001b[0m \u001b[32m━━━━━━━━━━━━━━━━━━━━\u001b[0m\u001b[37m\u001b[0m \u001b[1m174s\u001b[0m 116ms/step - Fashion_MNIST_output_loss: 3.8590e-04 - Fashion_MNIST_output_mse: 3.8590e-04 - MNIST_output_loss: 3.7852e-04 - MNIST_output_mse: 3.7852e-04 - loss: 7.6442e-04 - val_Fashion_MNIST_output_loss: 3.8306e-04 - val_Fashion_MNIST_output_mse: 3.8306e-04 - val_MNIST_output_loss: 3.7823e-04 - val_MNIST_output_mse: 3.7823e-04 - val_loss: 7.6129e-04 - learning_rate: 1.5625e-05\n",
      "Epoch 59/100\n",
      "\u001b[1m1500/1500\u001b[0m \u001b[32m━━━━━━━━━━━━━━━━━━━━\u001b[0m\u001b[37m\u001b[0m \u001b[1m174s\u001b[0m 116ms/step - Fashion_MNIST_output_loss: 3.8584e-04 - Fashion_MNIST_output_mse: 3.8584e-04 - MNIST_output_loss: 3.7873e-04 - MNIST_output_mse: 3.7873e-04 - loss: 7.6457e-04 - val_Fashion_MNIST_output_loss: 3.8663e-04 - val_Fashion_MNIST_output_mse: 3.8663e-04 - val_MNIST_output_loss: 3.8257e-04 - val_MNIST_output_mse: 3.8257e-04 - val_loss: 7.6921e-04 - learning_rate: 7.8125e-06\n",
      "Epoch 60/100\n",
      "\u001b[1m1500/1500\u001b[0m \u001b[32m━━━━━━━━━━━━━━━━━━━━\u001b[0m\u001b[37m\u001b[0m \u001b[1m175s\u001b[0m 116ms/step - Fashion_MNIST_output_loss: 3.8475e-04 - Fashion_MNIST_output_mse: 3.8475e-04 - MNIST_output_loss: 3.7765e-04 - MNIST_output_mse: 3.7765e-04 - loss: 7.6240e-04 - val_Fashion_MNIST_output_loss: 3.8862e-04 - val_Fashion_MNIST_output_mse: 3.8862e-04 - val_MNIST_output_loss: 3.8365e-04 - val_MNIST_output_mse: 3.8365e-04 - val_loss: 7.7227e-04 - learning_rate: 7.8125e-06\n",
      "Epoch 61/100\n",
      "\u001b[1m1500/1500\u001b[0m \u001b[32m━━━━━━━━━━━━━━━━━━━━\u001b[0m\u001b[37m\u001b[0m \u001b[1m174s\u001b[0m 116ms/step - Fashion_MNIST_output_loss: 3.8657e-04 - Fashion_MNIST_output_mse: 3.8657e-04 - MNIST_output_loss: 3.7945e-04 - MNIST_output_mse: 3.7945e-04 - loss: 7.6603e-04 - val_Fashion_MNIST_output_loss: 3.8639e-04 - val_Fashion_MNIST_output_mse: 3.8639e-04 - val_MNIST_output_loss: 3.8121e-04 - val_MNIST_output_mse: 3.8121e-04 - val_loss: 7.6760e-04 - learning_rate: 7.8125e-06\n",
      "Epoch 62/100\n",
      "\u001b[1m1500/1500\u001b[0m \u001b[32m━━━━━━━━━━━━━━━━━━━━\u001b[0m\u001b[37m\u001b[0m \u001b[1m171s\u001b[0m 114ms/step - Fashion_MNIST_output_loss: 3.8110e-04 - Fashion_MNIST_output_mse: 3.8110e-04 - MNIST_output_loss: 3.7439e-04 - MNIST_output_mse: 3.7439e-04 - loss: 7.5549e-04 - val_Fashion_MNIST_output_loss: 3.8827e-04 - val_Fashion_MNIST_output_mse: 3.8827e-04 - val_MNIST_output_loss: 3.8362e-04 - val_MNIST_output_mse: 3.8362e-04 - val_loss: 7.7189e-04 - learning_rate: 7.8125e-06\n",
      "Epoch 63/100\n",
      "\u001b[1m1500/1500\u001b[0m \u001b[32m━━━━━━━━━━━━━━━━━━━━\u001b[0m\u001b[37m\u001b[0m \u001b[1m175s\u001b[0m 117ms/step - Fashion_MNIST_output_loss: 3.8099e-04 - Fashion_MNIST_output_mse: 3.8099e-04 - MNIST_output_loss: 3.7387e-04 - MNIST_output_mse: 3.7387e-04 - loss: 7.5485e-04 - val_Fashion_MNIST_output_loss: 3.8391e-04 - val_Fashion_MNIST_output_mse: 3.8391e-04 - val_MNIST_output_loss: 3.7958e-04 - val_MNIST_output_mse: 3.7958e-04 - val_loss: 7.6349e-04 - learning_rate: 7.8125e-06\n",
      "Epoch 64/100\n",
      "\u001b[1m1500/1500\u001b[0m \u001b[32m━━━━━━━━━━━━━━━━━━━━\u001b[0m\u001b[37m\u001b[0m \u001b[1m173s\u001b[0m 115ms/step - Fashion_MNIST_output_loss: 3.8361e-04 - Fashion_MNIST_output_mse: 3.8361e-04 - MNIST_output_loss: 3.7656e-04 - MNIST_output_mse: 3.7656e-04 - loss: 7.6017e-04 - val_Fashion_MNIST_output_loss: 3.8030e-04 - val_Fashion_MNIST_output_mse: 3.8030e-04 - val_MNIST_output_loss: 3.7557e-04 - val_MNIST_output_mse: 3.7557e-04 - val_loss: 7.5587e-04 - learning_rate: 3.9063e-06\n",
      "Epoch 65/100\n",
      "\u001b[1m1500/1500\u001b[0m \u001b[32m━━━━━━━━━━━━━━━━━━━━\u001b[0m\u001b[37m\u001b[0m \u001b[1m173s\u001b[0m 115ms/step - Fashion_MNIST_output_loss: 3.7843e-04 - Fashion_MNIST_output_mse: 3.7843e-04 - MNIST_output_loss: 3.7129e-04 - MNIST_output_mse: 3.7129e-04 - loss: 7.4972e-04 - val_Fashion_MNIST_output_loss: 3.9092e-04 - val_Fashion_MNIST_output_mse: 3.9092e-04 - val_MNIST_output_loss: 3.8570e-04 - val_MNIST_output_mse: 3.8570e-04 - val_loss: 7.7662e-04 - learning_rate: 3.9063e-06\n",
      "Epoch 66/100\n",
      "\u001b[1m1500/1500\u001b[0m \u001b[32m━━━━━━━━━━━━━━━━━━━━\u001b[0m\u001b[37m\u001b[0m \u001b[1m170s\u001b[0m 114ms/step - Fashion_MNIST_output_loss: 3.8215e-04 - Fashion_MNIST_output_mse: 3.8215e-04 - MNIST_output_loss: 3.7489e-04 - MNIST_output_mse: 3.7489e-04 - loss: 7.5705e-04 - val_Fashion_MNIST_output_loss: 3.7731e-04 - val_Fashion_MNIST_output_mse: 3.7731e-04 - val_MNIST_output_loss: 3.7298e-04 - val_MNIST_output_mse: 3.7298e-04 - val_loss: 7.5030e-04 - learning_rate: 3.9063e-06\n",
      "Epoch 67/100\n",
      "\u001b[1m1500/1500\u001b[0m \u001b[32m━━━━━━━━━━━━━━━━━━━━\u001b[0m\u001b[37m\u001b[0m \u001b[1m173s\u001b[0m 116ms/step - Fashion_MNIST_output_loss: 3.8754e-04 - Fashion_MNIST_output_mse: 3.8754e-04 - MNIST_output_loss: 3.8055e-04 - MNIST_output_mse: 3.8055e-04 - loss: 7.6809e-04 - val_Fashion_MNIST_output_loss: 3.8447e-04 - val_Fashion_MNIST_output_mse: 3.8447e-04 - val_MNIST_output_loss: 3.8008e-04 - val_MNIST_output_mse: 3.8008e-04 - val_loss: 7.6456e-04 - learning_rate: 3.9063e-06\n",
      "Epoch 68/100\n",
      "\u001b[1m1500/1500\u001b[0m \u001b[32m━━━━━━━━━━━━━━━━━━━━\u001b[0m\u001b[37m\u001b[0m \u001b[1m174s\u001b[0m 116ms/step - Fashion_MNIST_output_loss: 3.8526e-04 - Fashion_MNIST_output_mse: 3.8526e-04 - MNIST_output_loss: 3.7829e-04 - MNIST_output_mse: 3.7829e-04 - loss: 7.6354e-04 - val_Fashion_MNIST_output_loss: 3.8160e-04 - val_Fashion_MNIST_output_mse: 3.8160e-04 - val_MNIST_output_loss: 3.7708e-04 - val_MNIST_output_mse: 3.7708e-04 - val_loss: 7.5868e-04 - learning_rate: 3.9063e-06\n",
      "Epoch 69/100\n",
      "\u001b[1m1500/1500\u001b[0m \u001b[32m━━━━━━━━━━━━━━━━━━━━\u001b[0m\u001b[37m\u001b[0m \u001b[1m175s\u001b[0m 117ms/step - Fashion_MNIST_output_loss: 3.8659e-04 - Fashion_MNIST_output_mse: 3.8659e-04 - MNIST_output_loss: 3.7973e-04 - MNIST_output_mse: 3.7973e-04 - loss: 7.6632e-04 - val_Fashion_MNIST_output_loss: 3.8782e-04 - val_Fashion_MNIST_output_mse: 3.8782e-04 - val_MNIST_output_loss: 3.8267e-04 - val_MNIST_output_mse: 3.8267e-04 - val_loss: 7.7049e-04 - learning_rate: 1.9531e-06\n",
      "Epoch 70/100\n",
      "\u001b[1m1500/1500\u001b[0m \u001b[32m━━━━━━━━━━━━━━━━━━━━\u001b[0m\u001b[37m\u001b[0m \u001b[1m174s\u001b[0m 116ms/step - Fashion_MNIST_output_loss: 3.8641e-04 - Fashion_MNIST_output_mse: 3.8641e-04 - MNIST_output_loss: 3.7946e-04 - MNIST_output_mse: 3.7946e-04 - loss: 7.6587e-04 - val_Fashion_MNIST_output_loss: 3.8654e-04 - val_Fashion_MNIST_output_mse: 3.8654e-04 - val_MNIST_output_loss: 3.8176e-04 - val_MNIST_output_mse: 3.8176e-04 - val_loss: 7.6829e-04 - learning_rate: 1.9531e-06\n",
      "Epoch 71/100\n",
      "\u001b[1m1500/1500\u001b[0m \u001b[32m━━━━━━━━━━━━━━━━━━━━\u001b[0m\u001b[37m\u001b[0m \u001b[1m174s\u001b[0m 116ms/step - Fashion_MNIST_output_loss: 3.7953e-04 - Fashion_MNIST_output_mse: 3.7953e-04 - MNIST_output_loss: 3.7288e-04 - MNIST_output_mse: 3.7288e-04 - loss: 7.5241e-04 - val_Fashion_MNIST_output_loss: 3.8487e-04 - val_Fashion_MNIST_output_mse: 3.8487e-04 - val_MNIST_output_loss: 3.8019e-04 - val_MNIST_output_mse: 3.8019e-04 - val_loss: 7.6506e-04 - learning_rate: 1.9531e-06\n",
      "Epoch 72/100\n",
      "\u001b[1m1500/1500\u001b[0m \u001b[32m━━━━━━━━━━━━━━━━━━━━\u001b[0m\u001b[37m\u001b[0m \u001b[1m174s\u001b[0m 116ms/step - Fashion_MNIST_output_loss: 3.8309e-04 - Fashion_MNIST_output_mse: 3.8309e-04 - MNIST_output_loss: 3.7628e-04 - MNIST_output_mse: 3.7628e-04 - loss: 7.5937e-04 - val_Fashion_MNIST_output_loss: 3.8452e-04 - val_Fashion_MNIST_output_mse: 3.8452e-04 - val_MNIST_output_loss: 3.7991e-04 - val_MNIST_output_mse: 3.7991e-04 - val_loss: 7.6443e-04 - learning_rate: 1.9531e-06\n",
      "Epoch 73/100\n",
      "\u001b[1m1500/1500\u001b[0m \u001b[32m━━━━━━━━━━━━━━━━━━━━\u001b[0m\u001b[37m\u001b[0m \u001b[1m174s\u001b[0m 116ms/step - Fashion_MNIST_output_loss: 3.8882e-04 - Fashion_MNIST_output_mse: 3.8882e-04 - MNIST_output_loss: 3.8156e-04 - MNIST_output_mse: 3.8156e-04 - loss: 7.7038e-04 - val_Fashion_MNIST_output_loss: 3.8683e-04 - val_Fashion_MNIST_output_mse: 3.8683e-04 - val_MNIST_output_loss: 3.8223e-04 - val_MNIST_output_mse: 3.8223e-04 - val_loss: 7.6906e-04 - learning_rate: 1.9531e-06\n",
      "Epoch 74/100\n",
      "\u001b[1m1500/1500\u001b[0m \u001b[32m━━━━━━━━━━━━━━━━━━━━\u001b[0m\u001b[37m\u001b[0m \u001b[1m171s\u001b[0m 114ms/step - Fashion_MNIST_output_loss: 3.8581e-04 - Fashion_MNIST_output_mse: 3.8581e-04 - MNIST_output_loss: 3.7876e-04 - MNIST_output_mse: 3.7876e-04 - loss: 7.6457e-04 - val_Fashion_MNIST_output_loss: 3.8361e-04 - val_Fashion_MNIST_output_mse: 3.8361e-04 - val_MNIST_output_loss: 3.7851e-04 - val_MNIST_output_mse: 3.7851e-04 - val_loss: 7.6212e-04 - learning_rate: 1.0000e-06\n",
      "Epoch 75/100\n",
      "\u001b[1m1500/1500\u001b[0m \u001b[32m━━━━━━━━━━━━━━━━━━━━\u001b[0m\u001b[37m\u001b[0m \u001b[1m171s\u001b[0m 114ms/step - Fashion_MNIST_output_loss: 3.8739e-04 - Fashion_MNIST_output_mse: 3.8739e-04 - MNIST_output_loss: 3.8056e-04 - MNIST_output_mse: 3.8056e-04 - loss: 7.6796e-04 - val_Fashion_MNIST_output_loss: 3.8766e-04 - val_Fashion_MNIST_output_mse: 3.8766e-04 - val_MNIST_output_loss: 3.8303e-04 - val_MNIST_output_mse: 3.8303e-04 - val_loss: 7.7069e-04 - learning_rate: 1.0000e-06\n",
      "Epoch 76/100\n",
      "\u001b[1m1500/1500\u001b[0m \u001b[32m━━━━━━━━━━━━━━━━━━━━\u001b[0m\u001b[37m\u001b[0m \u001b[1m171s\u001b[0m 114ms/step - Fashion_MNIST_output_loss: 3.8501e-04 - Fashion_MNIST_output_mse: 3.8501e-04 - MNIST_output_loss: 3.7809e-04 - MNIST_output_mse: 3.7809e-04 - loss: 7.6310e-04 - val_Fashion_MNIST_output_loss: 3.8571e-04 - val_Fashion_MNIST_output_mse: 3.8571e-04 - val_MNIST_output_loss: 3.8121e-04 - val_MNIST_output_mse: 3.8121e-04 - val_loss: 7.6692e-04 - learning_rate: 1.0000e-06\n"
     ]
    },
    {
     "name": "stderr",
     "output_type": "stream",
     "text": [
      "I0000 00:00:1738866932.226328   29763 gpu_device.cc:2022] Created device /job:localhost/replica:0/task:0/device:GPU:0 with 4701 MB memory:  -> device: 0, name: NVIDIA GeForce GTX 1060 6GB, pci bus id: 0000:06:00.0, compute capability: 6.1\n",
      "WARNING: All log messages before absl::InitializeLog() is called are written to STDERR\n",
      "I0000 00:00:1738866941.341032   30078 service.cc:148] XLA service 0x7fea8c00a0a0 initialized for platform CUDA (this does not guarantee that XLA will be used). Devices:\n",
      "I0000 00:00:1738866941.341219   30078 service.cc:156]   StreamExecutor device (0): NVIDIA GeForce GTX 1060 6GB, Compute Capability 6.1\n",
      "I0000 00:00:1738866943.030451   30078 cuda_dnn.cc:529] Loaded cuDNN version 90300\n",
      "I0000 00:00:1738866956.549192   30078 device_compiler.h:188] Compiled cluster using XLA!  This line is logged at most once for the lifetime of the process.\n"
     ]
    }
   ],
   "source": [
    "import json\n",
    "\n",
    "best_hps = tuner.get_best_hyperparameters(num_trials=1)[0]\n",
    "# change learning rate to 0.01 because the number of epochs is increased\n",
    "# best_hps.values['learning_rate'] = 0.01\n",
    "\n",
    "print(f\"\"\"\n",
    "Best Initial Filters: {best_hps.get('initial_filters')}\n",
    "Best Activation Function: {best_hps.get('activation_function')}\n",
    "Best Learning Rate: {best_hps.get('learning_rate')}\n",
    "\"\"\")\n",
    "\n",
    "batch_size = 32\n",
    "train_generator = datagenerator(mnist_x_train, fashion_mnist_x_train, batch_size)\n",
    "val_generator = datagenerator(mnist_x_val, fashion_mnist_x_val, batch_size)\n",
    "\n",
    "early_stop = EarlyStopping(monitor='val_loss', patience=10, restore_best_weights=True)\n",
    "reduce_lr = ReduceLROnPlateau(monitor='val_loss', factor=0.5, patience=5, min_lr=1e-6)\n",
    "\n",
    "# Build best model\n",
    "best_model = tuner.hypermodel.build(best_hps)\n",
    "\n",
    "# Train best model with more epochs\n",
    "history = best_model.fit(\n",
    "    train_generator,\n",
    "    epochs=100,  # Train longer on best configuration\n",
    "    steps_per_epoch=len(mnist_x_train) // batch_size,\n",
    "    validation_data=val_generator,\n",
    "    validation_steps=len(mnist_x_val) // batch_size,\n",
    "    callbacks=[early_stop, reduce_lr]\n",
    ")\n",
    "\n",
    "best_model.save(\"my_best_model.h5\")\n",
    "\n",
    "# After training your model and obtaining the history:\n",
    "with open(\"training_history.json\", \"w\") as f:\n",
    "    json.dump(history.history, f)"
   ]
  },
  {
   "cell_type": "code",
   "execution_count": 26,
   "metadata": {},
   "outputs": [
    {
     "data": {
      "text/html": [
       "<pre style=\"white-space:pre;overflow-x:auto;line-height:normal;font-family:Menlo,'DejaVu Sans Mono',consolas,'Courier New',monospace\"><span style=\"font-weight: bold\">Model: \"functional\"</span>\n",
       "</pre>\n"
      ],
      "text/plain": [
       "\u001b[1mModel: \"functional\"\u001b[0m\n"
      ]
     },
     "metadata": {},
     "output_type": "display_data"
    },
    {
     "data": {
      "text/html": [
       "<pre style=\"white-space:pre;overflow-x:auto;line-height:normal;font-family:Menlo,'DejaVu Sans Mono',consolas,'Courier New',monospace\">┏━━━━━━━━━━━━━━━━━━━━━┳━━━━━━━━━━━━━━━━━━━┳━━━━━━━━━━━━┳━━━━━━━━━━━━━━━━━━━┓\n",
       "┃<span style=\"font-weight: bold\"> Layer (type)        </span>┃<span style=\"font-weight: bold\"> Output Shape      </span>┃<span style=\"font-weight: bold\">    Param # </span>┃<span style=\"font-weight: bold\"> Connected to      </span>┃\n",
       "┡━━━━━━━━━━━━━━━━━━━━━╇━━━━━━━━━━━━━━━━━━━╇━━━━━━━━━━━━╇━━━━━━━━━━━━━━━━━━━┩\n",
       "│ input_layer         │ (<span style=\"color: #00d7ff; text-decoration-color: #00d7ff\">None</span>, <span style=\"color: #00af00; text-decoration-color: #00af00\">32</span>, <span style=\"color: #00af00; text-decoration-color: #00af00\">32</span>, <span style=\"color: #00af00; text-decoration-color: #00af00\">1</span>) │          <span style=\"color: #00af00; text-decoration-color: #00af00\">0</span> │ -                 │\n",
       "│ (<span style=\"color: #0087ff; text-decoration-color: #0087ff\">InputLayer</span>)        │                   │            │                   │\n",
       "├─────────────────────┼───────────────────┼────────────┼───────────────────┤\n",
       "│ conv2d (<span style=\"color: #0087ff; text-decoration-color: #0087ff\">Conv2D</span>)     │ (<span style=\"color: #00d7ff; text-decoration-color: #00d7ff\">None</span>, <span style=\"color: #00af00; text-decoration-color: #00af00\">32</span>, <span style=\"color: #00af00; text-decoration-color: #00af00\">32</span>,    │      <span style=\"color: #00af00; text-decoration-color: #00af00\">1,280</span> │ input_layer[<span style=\"color: #00af00; text-decoration-color: #00af00\">0</span>][<span style=\"color: #00af00; text-decoration-color: #00af00\">0</span>] │\n",
       "│                     │ <span style=\"color: #00af00; text-decoration-color: #00af00\">128</span>)              │            │                   │\n",
       "├─────────────────────┼───────────────────┼────────────┼───────────────────┤\n",
       "│ batch_normalization │ (<span style=\"color: #00d7ff; text-decoration-color: #00d7ff\">None</span>, <span style=\"color: #00af00; text-decoration-color: #00af00\">32</span>, <span style=\"color: #00af00; text-decoration-color: #00af00\">32</span>,    │        <span style=\"color: #00af00; text-decoration-color: #00af00\">512</span> │ conv2d[<span style=\"color: #00af00; text-decoration-color: #00af00\">0</span>][<span style=\"color: #00af00; text-decoration-color: #00af00\">0</span>]      │\n",
       "│ (<span style=\"color: #0087ff; text-decoration-color: #0087ff\">BatchNormalizatio…</span> │ <span style=\"color: #00af00; text-decoration-color: #00af00\">128</span>)              │            │                   │\n",
       "├─────────────────────┼───────────────────┼────────────┼───────────────────┤\n",
       "│ activation          │ (<span style=\"color: #00d7ff; text-decoration-color: #00d7ff\">None</span>, <span style=\"color: #00af00; text-decoration-color: #00af00\">32</span>, <span style=\"color: #00af00; text-decoration-color: #00af00\">32</span>,    │          <span style=\"color: #00af00; text-decoration-color: #00af00\">0</span> │ batch_normalizat… │\n",
       "│ (<span style=\"color: #0087ff; text-decoration-color: #0087ff\">Activation</span>)        │ <span style=\"color: #00af00; text-decoration-color: #00af00\">128</span>)              │            │                   │\n",
       "├─────────────────────┼───────────────────┼────────────┼───────────────────┤\n",
       "│ conv2d_1 (<span style=\"color: #0087ff; text-decoration-color: #0087ff\">Conv2D</span>)   │ (<span style=\"color: #00d7ff; text-decoration-color: #00d7ff\">None</span>, <span style=\"color: #00af00; text-decoration-color: #00af00\">32</span>, <span style=\"color: #00af00; text-decoration-color: #00af00\">32</span>,    │    <span style=\"color: #00af00; text-decoration-color: #00af00\">147,584</span> │ activation[<span style=\"color: #00af00; text-decoration-color: #00af00\">0</span>][<span style=\"color: #00af00; text-decoration-color: #00af00\">0</span>]  │\n",
       "│                     │ <span style=\"color: #00af00; text-decoration-color: #00af00\">128</span>)              │            │                   │\n",
       "├─────────────────────┼───────────────────┼────────────┼───────────────────┤\n",
       "│ batch_normalizatio… │ (<span style=\"color: #00d7ff; text-decoration-color: #00d7ff\">None</span>, <span style=\"color: #00af00; text-decoration-color: #00af00\">32</span>, <span style=\"color: #00af00; text-decoration-color: #00af00\">32</span>,    │        <span style=\"color: #00af00; text-decoration-color: #00af00\">512</span> │ conv2d_1[<span style=\"color: #00af00; text-decoration-color: #00af00\">0</span>][<span style=\"color: #00af00; text-decoration-color: #00af00\">0</span>]    │\n",
       "│ (<span style=\"color: #0087ff; text-decoration-color: #0087ff\">BatchNormalizatio…</span> │ <span style=\"color: #00af00; text-decoration-color: #00af00\">128</span>)              │            │                   │\n",
       "├─────────────────────┼───────────────────┼────────────┼───────────────────┤\n",
       "│ activation_1        │ (<span style=\"color: #00d7ff; text-decoration-color: #00d7ff\">None</span>, <span style=\"color: #00af00; text-decoration-color: #00af00\">32</span>, <span style=\"color: #00af00; text-decoration-color: #00af00\">32</span>,    │          <span style=\"color: #00af00; text-decoration-color: #00af00\">0</span> │ batch_normalizat… │\n",
       "│ (<span style=\"color: #0087ff; text-decoration-color: #0087ff\">Activation</span>)        │ <span style=\"color: #00af00; text-decoration-color: #00af00\">128</span>)              │            │                   │\n",
       "├─────────────────────┼───────────────────┼────────────┼───────────────────┤\n",
       "│ max_pooling2d       │ (<span style=\"color: #00d7ff; text-decoration-color: #00d7ff\">None</span>, <span style=\"color: #00af00; text-decoration-color: #00af00\">16</span>, <span style=\"color: #00af00; text-decoration-color: #00af00\">16</span>,    │          <span style=\"color: #00af00; text-decoration-color: #00af00\">0</span> │ activation_1[<span style=\"color: #00af00; text-decoration-color: #00af00\">0</span>][<span style=\"color: #00af00; text-decoration-color: #00af00\">…</span> │\n",
       "│ (<span style=\"color: #0087ff; text-decoration-color: #0087ff\">MaxPooling2D</span>)      │ <span style=\"color: #00af00; text-decoration-color: #00af00\">128</span>)              │            │                   │\n",
       "├─────────────────────┼───────────────────┼────────────┼───────────────────┤\n",
       "│ conv2d_2 (<span style=\"color: #0087ff; text-decoration-color: #0087ff\">Conv2D</span>)   │ (<span style=\"color: #00d7ff; text-decoration-color: #00d7ff\">None</span>, <span style=\"color: #00af00; text-decoration-color: #00af00\">16</span>, <span style=\"color: #00af00; text-decoration-color: #00af00\">16</span>,    │    <span style=\"color: #00af00; text-decoration-color: #00af00\">295,168</span> │ max_pooling2d[<span style=\"color: #00af00; text-decoration-color: #00af00\">0</span>]… │\n",
       "│                     │ <span style=\"color: #00af00; text-decoration-color: #00af00\">256</span>)              │            │                   │\n",
       "├─────────────────────┼───────────────────┼────────────┼───────────────────┤\n",
       "│ batch_normalizatio… │ (<span style=\"color: #00d7ff; text-decoration-color: #00d7ff\">None</span>, <span style=\"color: #00af00; text-decoration-color: #00af00\">16</span>, <span style=\"color: #00af00; text-decoration-color: #00af00\">16</span>,    │      <span style=\"color: #00af00; text-decoration-color: #00af00\">1,024</span> │ conv2d_2[<span style=\"color: #00af00; text-decoration-color: #00af00\">0</span>][<span style=\"color: #00af00; text-decoration-color: #00af00\">0</span>]    │\n",
       "│ (<span style=\"color: #0087ff; text-decoration-color: #0087ff\">BatchNormalizatio…</span> │ <span style=\"color: #00af00; text-decoration-color: #00af00\">256</span>)              │            │                   │\n",
       "├─────────────────────┼───────────────────┼────────────┼───────────────────┤\n",
       "│ activation_2        │ (<span style=\"color: #00d7ff; text-decoration-color: #00d7ff\">None</span>, <span style=\"color: #00af00; text-decoration-color: #00af00\">16</span>, <span style=\"color: #00af00; text-decoration-color: #00af00\">16</span>,    │          <span style=\"color: #00af00; text-decoration-color: #00af00\">0</span> │ batch_normalizat… │\n",
       "│ (<span style=\"color: #0087ff; text-decoration-color: #0087ff\">Activation</span>)        │ <span style=\"color: #00af00; text-decoration-color: #00af00\">256</span>)              │            │                   │\n",
       "├─────────────────────┼───────────────────┼────────────┼───────────────────┤\n",
       "│ conv2d_3 (<span style=\"color: #0087ff; text-decoration-color: #0087ff\">Conv2D</span>)   │ (<span style=\"color: #00d7ff; text-decoration-color: #00d7ff\">None</span>, <span style=\"color: #00af00; text-decoration-color: #00af00\">16</span>, <span style=\"color: #00af00; text-decoration-color: #00af00\">16</span>,    │    <span style=\"color: #00af00; text-decoration-color: #00af00\">590,080</span> │ activation_2[<span style=\"color: #00af00; text-decoration-color: #00af00\">0</span>][<span style=\"color: #00af00; text-decoration-color: #00af00\">…</span> │\n",
       "│                     │ <span style=\"color: #00af00; text-decoration-color: #00af00\">256</span>)              │            │                   │\n",
       "├─────────────────────┼───────────────────┼────────────┼───────────────────┤\n",
       "│ batch_normalizatio… │ (<span style=\"color: #00d7ff; text-decoration-color: #00d7ff\">None</span>, <span style=\"color: #00af00; text-decoration-color: #00af00\">16</span>, <span style=\"color: #00af00; text-decoration-color: #00af00\">16</span>,    │      <span style=\"color: #00af00; text-decoration-color: #00af00\">1,024</span> │ conv2d_3[<span style=\"color: #00af00; text-decoration-color: #00af00\">0</span>][<span style=\"color: #00af00; text-decoration-color: #00af00\">0</span>]    │\n",
       "│ (<span style=\"color: #0087ff; text-decoration-color: #0087ff\">BatchNormalizatio…</span> │ <span style=\"color: #00af00; text-decoration-color: #00af00\">256</span>)              │            │                   │\n",
       "├─────────────────────┼───────────────────┼────────────┼───────────────────┤\n",
       "│ activation_3        │ (<span style=\"color: #00d7ff; text-decoration-color: #00d7ff\">None</span>, <span style=\"color: #00af00; text-decoration-color: #00af00\">16</span>, <span style=\"color: #00af00; text-decoration-color: #00af00\">16</span>,    │          <span style=\"color: #00af00; text-decoration-color: #00af00\">0</span> │ batch_normalizat… │\n",
       "│ (<span style=\"color: #0087ff; text-decoration-color: #0087ff\">Activation</span>)        │ <span style=\"color: #00af00; text-decoration-color: #00af00\">256</span>)              │            │                   │\n",
       "├─────────────────────┼───────────────────┼────────────┼───────────────────┤\n",
       "│ max_pooling2d_1     │ (<span style=\"color: #00d7ff; text-decoration-color: #00d7ff\">None</span>, <span style=\"color: #00af00; text-decoration-color: #00af00\">8</span>, <span style=\"color: #00af00; text-decoration-color: #00af00\">8</span>, <span style=\"color: #00af00; text-decoration-color: #00af00\">256</span>) │          <span style=\"color: #00af00; text-decoration-color: #00af00\">0</span> │ activation_3[<span style=\"color: #00af00; text-decoration-color: #00af00\">0</span>][<span style=\"color: #00af00; text-decoration-color: #00af00\">…</span> │\n",
       "│ (<span style=\"color: #0087ff; text-decoration-color: #0087ff\">MaxPooling2D</span>)      │                   │            │                   │\n",
       "├─────────────────────┼───────────────────┼────────────┼───────────────────┤\n",
       "│ conv2d_4 (<span style=\"color: #0087ff; text-decoration-color: #0087ff\">Conv2D</span>)   │ (<span style=\"color: #00d7ff; text-decoration-color: #00d7ff\">None</span>, <span style=\"color: #00af00; text-decoration-color: #00af00\">8</span>, <span style=\"color: #00af00; text-decoration-color: #00af00\">8</span>, <span style=\"color: #00af00; text-decoration-color: #00af00\">512</span>) │  <span style=\"color: #00af00; text-decoration-color: #00af00\">1,180,160</span> │ max_pooling2d_1[<span style=\"color: #00af00; text-decoration-color: #00af00\">…</span> │\n",
       "├─────────────────────┼───────────────────┼────────────┼───────────────────┤\n",
       "│ batch_normalizatio… │ (<span style=\"color: #00d7ff; text-decoration-color: #00d7ff\">None</span>, <span style=\"color: #00af00; text-decoration-color: #00af00\">8</span>, <span style=\"color: #00af00; text-decoration-color: #00af00\">8</span>, <span style=\"color: #00af00; text-decoration-color: #00af00\">512</span>) │      <span style=\"color: #00af00; text-decoration-color: #00af00\">2,048</span> │ conv2d_4[<span style=\"color: #00af00; text-decoration-color: #00af00\">0</span>][<span style=\"color: #00af00; text-decoration-color: #00af00\">0</span>]    │\n",
       "│ (<span style=\"color: #0087ff; text-decoration-color: #0087ff\">BatchNormalizatio…</span> │                   │            │                   │\n",
       "├─────────────────────┼───────────────────┼────────────┼───────────────────┤\n",
       "│ activation_4        │ (<span style=\"color: #00d7ff; text-decoration-color: #00d7ff\">None</span>, <span style=\"color: #00af00; text-decoration-color: #00af00\">8</span>, <span style=\"color: #00af00; text-decoration-color: #00af00\">8</span>, <span style=\"color: #00af00; text-decoration-color: #00af00\">512</span>) │          <span style=\"color: #00af00; text-decoration-color: #00af00\">0</span> │ batch_normalizat… │\n",
       "│ (<span style=\"color: #0087ff; text-decoration-color: #0087ff\">Activation</span>)        │                   │            │                   │\n",
       "├─────────────────────┼───────────────────┼────────────┼───────────────────┤\n",
       "│ conv2d_5 (<span style=\"color: #0087ff; text-decoration-color: #0087ff\">Conv2D</span>)   │ (<span style=\"color: #00d7ff; text-decoration-color: #00d7ff\">None</span>, <span style=\"color: #00af00; text-decoration-color: #00af00\">8</span>, <span style=\"color: #00af00; text-decoration-color: #00af00\">8</span>, <span style=\"color: #00af00; text-decoration-color: #00af00\">512</span>) │  <span style=\"color: #00af00; text-decoration-color: #00af00\">2,359,808</span> │ activation_4[<span style=\"color: #00af00; text-decoration-color: #00af00\">0</span>][<span style=\"color: #00af00; text-decoration-color: #00af00\">…</span> │\n",
       "├─────────────────────┼───────────────────┼────────────┼───────────────────┤\n",
       "│ batch_normalizatio… │ (<span style=\"color: #00d7ff; text-decoration-color: #00d7ff\">None</span>, <span style=\"color: #00af00; text-decoration-color: #00af00\">8</span>, <span style=\"color: #00af00; text-decoration-color: #00af00\">8</span>, <span style=\"color: #00af00; text-decoration-color: #00af00\">512</span>) │      <span style=\"color: #00af00; text-decoration-color: #00af00\">2,048</span> │ conv2d_5[<span style=\"color: #00af00; text-decoration-color: #00af00\">0</span>][<span style=\"color: #00af00; text-decoration-color: #00af00\">0</span>]    │\n",
       "│ (<span style=\"color: #0087ff; text-decoration-color: #0087ff\">BatchNormalizatio…</span> │                   │            │                   │\n",
       "├─────────────────────┼───────────────────┼────────────┼───────────────────┤\n",
       "│ activation_5        │ (<span style=\"color: #00d7ff; text-decoration-color: #00d7ff\">None</span>, <span style=\"color: #00af00; text-decoration-color: #00af00\">8</span>, <span style=\"color: #00af00; text-decoration-color: #00af00\">8</span>, <span style=\"color: #00af00; text-decoration-color: #00af00\">512</span>) │          <span style=\"color: #00af00; text-decoration-color: #00af00\">0</span> │ batch_normalizat… │\n",
       "│ (<span style=\"color: #0087ff; text-decoration-color: #0087ff\">Activation</span>)        │                   │            │                   │\n",
       "├─────────────────────┼───────────────────┼────────────┼───────────────────┤\n",
       "│ conv2d_transpose    │ (<span style=\"color: #00d7ff; text-decoration-color: #00d7ff\">None</span>, <span style=\"color: #00af00; text-decoration-color: #00af00\">16</span>, <span style=\"color: #00af00; text-decoration-color: #00af00\">16</span>,    │  <span style=\"color: #00af00; text-decoration-color: #00af00\">1,179,904</span> │ activation_5[<span style=\"color: #00af00; text-decoration-color: #00af00\">0</span>][<span style=\"color: #00af00; text-decoration-color: #00af00\">…</span> │\n",
       "│ (<span style=\"color: #0087ff; text-decoration-color: #0087ff\">Conv2DTranspose</span>)   │ <span style=\"color: #00af00; text-decoration-color: #00af00\">256</span>)              │            │                   │\n",
       "├─────────────────────┼───────────────────┼────────────┼───────────────────┤\n",
       "│ concatenate         │ (<span style=\"color: #00d7ff; text-decoration-color: #00d7ff\">None</span>, <span style=\"color: #00af00; text-decoration-color: #00af00\">16</span>, <span style=\"color: #00af00; text-decoration-color: #00af00\">16</span>,    │          <span style=\"color: #00af00; text-decoration-color: #00af00\">0</span> │ conv2d_transpose… │\n",
       "│ (<span style=\"color: #0087ff; text-decoration-color: #0087ff\">Concatenate</span>)       │ <span style=\"color: #00af00; text-decoration-color: #00af00\">512</span>)              │            │ activation_3[<span style=\"color: #00af00; text-decoration-color: #00af00\">0</span>][<span style=\"color: #00af00; text-decoration-color: #00af00\">…</span> │\n",
       "├─────────────────────┼───────────────────┼────────────┼───────────────────┤\n",
       "│ conv2d_6 (<span style=\"color: #0087ff; text-decoration-color: #0087ff\">Conv2D</span>)   │ (<span style=\"color: #00d7ff; text-decoration-color: #00d7ff\">None</span>, <span style=\"color: #00af00; text-decoration-color: #00af00\">16</span>, <span style=\"color: #00af00; text-decoration-color: #00af00\">16</span>,    │  <span style=\"color: #00af00; text-decoration-color: #00af00\">1,179,904</span> │ concatenate[<span style=\"color: #00af00; text-decoration-color: #00af00\">0</span>][<span style=\"color: #00af00; text-decoration-color: #00af00\">0</span>] │\n",
       "│                     │ <span style=\"color: #00af00; text-decoration-color: #00af00\">256</span>)              │            │                   │\n",
       "├─────────────────────┼───────────────────┼────────────┼───────────────────┤\n",
       "│ batch_normalizatio… │ (<span style=\"color: #00d7ff; text-decoration-color: #00d7ff\">None</span>, <span style=\"color: #00af00; text-decoration-color: #00af00\">16</span>, <span style=\"color: #00af00; text-decoration-color: #00af00\">16</span>,    │      <span style=\"color: #00af00; text-decoration-color: #00af00\">1,024</span> │ conv2d_6[<span style=\"color: #00af00; text-decoration-color: #00af00\">0</span>][<span style=\"color: #00af00; text-decoration-color: #00af00\">0</span>]    │\n",
       "│ (<span style=\"color: #0087ff; text-decoration-color: #0087ff\">BatchNormalizatio…</span> │ <span style=\"color: #00af00; text-decoration-color: #00af00\">256</span>)              │            │                   │\n",
       "├─────────────────────┼───────────────────┼────────────┼───────────────────┤\n",
       "│ activation_6        │ (<span style=\"color: #00d7ff; text-decoration-color: #00d7ff\">None</span>, <span style=\"color: #00af00; text-decoration-color: #00af00\">16</span>, <span style=\"color: #00af00; text-decoration-color: #00af00\">16</span>,    │          <span style=\"color: #00af00; text-decoration-color: #00af00\">0</span> │ batch_normalizat… │\n",
       "│ (<span style=\"color: #0087ff; text-decoration-color: #0087ff\">Activation</span>)        │ <span style=\"color: #00af00; text-decoration-color: #00af00\">256</span>)              │            │                   │\n",
       "├─────────────────────┼───────────────────┼────────────┼───────────────────┤\n",
       "│ conv2d_7 (<span style=\"color: #0087ff; text-decoration-color: #0087ff\">Conv2D</span>)   │ (<span style=\"color: #00d7ff; text-decoration-color: #00d7ff\">None</span>, <span style=\"color: #00af00; text-decoration-color: #00af00\">16</span>, <span style=\"color: #00af00; text-decoration-color: #00af00\">16</span>,    │    <span style=\"color: #00af00; text-decoration-color: #00af00\">590,080</span> │ activation_6[<span style=\"color: #00af00; text-decoration-color: #00af00\">0</span>][<span style=\"color: #00af00; text-decoration-color: #00af00\">…</span> │\n",
       "│                     │ <span style=\"color: #00af00; text-decoration-color: #00af00\">256</span>)              │            │                   │\n",
       "├─────────────────────┼───────────────────┼────────────┼───────────────────┤\n",
       "│ batch_normalizatio… │ (<span style=\"color: #00d7ff; text-decoration-color: #00d7ff\">None</span>, <span style=\"color: #00af00; text-decoration-color: #00af00\">16</span>, <span style=\"color: #00af00; text-decoration-color: #00af00\">16</span>,    │      <span style=\"color: #00af00; text-decoration-color: #00af00\">1,024</span> │ conv2d_7[<span style=\"color: #00af00; text-decoration-color: #00af00\">0</span>][<span style=\"color: #00af00; text-decoration-color: #00af00\">0</span>]    │\n",
       "│ (<span style=\"color: #0087ff; text-decoration-color: #0087ff\">BatchNormalizatio…</span> │ <span style=\"color: #00af00; text-decoration-color: #00af00\">256</span>)              │            │                   │\n",
       "├─────────────────────┼───────────────────┼────────────┼───────────────────┤\n",
       "│ activation_7        │ (<span style=\"color: #00d7ff; text-decoration-color: #00d7ff\">None</span>, <span style=\"color: #00af00; text-decoration-color: #00af00\">16</span>, <span style=\"color: #00af00; text-decoration-color: #00af00\">16</span>,    │          <span style=\"color: #00af00; text-decoration-color: #00af00\">0</span> │ batch_normalizat… │\n",
       "│ (<span style=\"color: #0087ff; text-decoration-color: #0087ff\">Activation</span>)        │ <span style=\"color: #00af00; text-decoration-color: #00af00\">256</span>)              │            │                   │\n",
       "├─────────────────────┼───────────────────┼────────────┼───────────────────┤\n",
       "│ conv2d_transpose_1  │ (<span style=\"color: #00d7ff; text-decoration-color: #00d7ff\">None</span>, <span style=\"color: #00af00; text-decoration-color: #00af00\">32</span>, <span style=\"color: #00af00; text-decoration-color: #00af00\">32</span>,    │    <span style=\"color: #00af00; text-decoration-color: #00af00\">295,040</span> │ activation_7[<span style=\"color: #00af00; text-decoration-color: #00af00\">0</span>][<span style=\"color: #00af00; text-decoration-color: #00af00\">…</span> │\n",
       "│ (<span style=\"color: #0087ff; text-decoration-color: #0087ff\">Conv2DTranspose</span>)   │ <span style=\"color: #00af00; text-decoration-color: #00af00\">128</span>)              │            │                   │\n",
       "├─────────────────────┼───────────────────┼────────────┼───────────────────┤\n",
       "│ concatenate_1       │ (<span style=\"color: #00d7ff; text-decoration-color: #00d7ff\">None</span>, <span style=\"color: #00af00; text-decoration-color: #00af00\">32</span>, <span style=\"color: #00af00; text-decoration-color: #00af00\">32</span>,    │          <span style=\"color: #00af00; text-decoration-color: #00af00\">0</span> │ conv2d_transpose… │\n",
       "│ (<span style=\"color: #0087ff; text-decoration-color: #0087ff\">Concatenate</span>)       │ <span style=\"color: #00af00; text-decoration-color: #00af00\">256</span>)              │            │ activation_1[<span style=\"color: #00af00; text-decoration-color: #00af00\">0</span>][<span style=\"color: #00af00; text-decoration-color: #00af00\">…</span> │\n",
       "├─────────────────────┼───────────────────┼────────────┼───────────────────┤\n",
       "│ conv2d_8 (<span style=\"color: #0087ff; text-decoration-color: #0087ff\">Conv2D</span>)   │ (<span style=\"color: #00d7ff; text-decoration-color: #00d7ff\">None</span>, <span style=\"color: #00af00; text-decoration-color: #00af00\">32</span>, <span style=\"color: #00af00; text-decoration-color: #00af00\">32</span>,    │    <span style=\"color: #00af00; text-decoration-color: #00af00\">295,040</span> │ concatenate_1[<span style=\"color: #00af00; text-decoration-color: #00af00\">0</span>]… │\n",
       "│                     │ <span style=\"color: #00af00; text-decoration-color: #00af00\">128</span>)              │            │                   │\n",
       "├─────────────────────┼───────────────────┼────────────┼───────────────────┤\n",
       "│ batch_normalizatio… │ (<span style=\"color: #00d7ff; text-decoration-color: #00d7ff\">None</span>, <span style=\"color: #00af00; text-decoration-color: #00af00\">32</span>, <span style=\"color: #00af00; text-decoration-color: #00af00\">32</span>,    │        <span style=\"color: #00af00; text-decoration-color: #00af00\">512</span> │ conv2d_8[<span style=\"color: #00af00; text-decoration-color: #00af00\">0</span>][<span style=\"color: #00af00; text-decoration-color: #00af00\">0</span>]    │\n",
       "│ (<span style=\"color: #0087ff; text-decoration-color: #0087ff\">BatchNormalizatio…</span> │ <span style=\"color: #00af00; text-decoration-color: #00af00\">128</span>)              │            │                   │\n",
       "├─────────────────────┼───────────────────┼────────────┼───────────────────┤\n",
       "│ activation_8        │ (<span style=\"color: #00d7ff; text-decoration-color: #00d7ff\">None</span>, <span style=\"color: #00af00; text-decoration-color: #00af00\">32</span>, <span style=\"color: #00af00; text-decoration-color: #00af00\">32</span>,    │          <span style=\"color: #00af00; text-decoration-color: #00af00\">0</span> │ batch_normalizat… │\n",
       "│ (<span style=\"color: #0087ff; text-decoration-color: #0087ff\">Activation</span>)        │ <span style=\"color: #00af00; text-decoration-color: #00af00\">128</span>)              │            │                   │\n",
       "├─────────────────────┼───────────────────┼────────────┼───────────────────┤\n",
       "│ conv2d_9 (<span style=\"color: #0087ff; text-decoration-color: #0087ff\">Conv2D</span>)   │ (<span style=\"color: #00d7ff; text-decoration-color: #00d7ff\">None</span>, <span style=\"color: #00af00; text-decoration-color: #00af00\">32</span>, <span style=\"color: #00af00; text-decoration-color: #00af00\">32</span>,    │    <span style=\"color: #00af00; text-decoration-color: #00af00\">147,584</span> │ activation_8[<span style=\"color: #00af00; text-decoration-color: #00af00\">0</span>][<span style=\"color: #00af00; text-decoration-color: #00af00\">…</span> │\n",
       "│                     │ <span style=\"color: #00af00; text-decoration-color: #00af00\">128</span>)              │            │                   │\n",
       "├─────────────────────┼───────────────────┼────────────┼───────────────────┤\n",
       "│ batch_normalizatio… │ (<span style=\"color: #00d7ff; text-decoration-color: #00d7ff\">None</span>, <span style=\"color: #00af00; text-decoration-color: #00af00\">32</span>, <span style=\"color: #00af00; text-decoration-color: #00af00\">32</span>,    │        <span style=\"color: #00af00; text-decoration-color: #00af00\">512</span> │ conv2d_9[<span style=\"color: #00af00; text-decoration-color: #00af00\">0</span>][<span style=\"color: #00af00; text-decoration-color: #00af00\">0</span>]    │\n",
       "│ (<span style=\"color: #0087ff; text-decoration-color: #0087ff\">BatchNormalizatio…</span> │ <span style=\"color: #00af00; text-decoration-color: #00af00\">128</span>)              │            │                   │\n",
       "├─────────────────────┼───────────────────┼────────────┼───────────────────┤\n",
       "│ activation_9        │ (<span style=\"color: #00d7ff; text-decoration-color: #00d7ff\">None</span>, <span style=\"color: #00af00; text-decoration-color: #00af00\">32</span>, <span style=\"color: #00af00; text-decoration-color: #00af00\">32</span>,    │          <span style=\"color: #00af00; text-decoration-color: #00af00\">0</span> │ batch_normalizat… │\n",
       "│ (<span style=\"color: #0087ff; text-decoration-color: #0087ff\">Activation</span>)        │ <span style=\"color: #00af00; text-decoration-color: #00af00\">128</span>)              │            │                   │\n",
       "├─────────────────────┼───────────────────┼────────────┼───────────────────┤\n",
       "│ conv2d_10 (<span style=\"color: #0087ff; text-decoration-color: #0087ff\">Conv2D</span>)  │ (<span style=\"color: #00d7ff; text-decoration-color: #00d7ff\">None</span>, <span style=\"color: #00af00; text-decoration-color: #00af00\">32</span>, <span style=\"color: #00af00; text-decoration-color: #00af00\">32</span>, <span style=\"color: #00af00; text-decoration-color: #00af00\">1</span>) │        <span style=\"color: #00af00; text-decoration-color: #00af00\">129</span> │ activation_9[<span style=\"color: #00af00; text-decoration-color: #00af00\">0</span>][<span style=\"color: #00af00; text-decoration-color: #00af00\">…</span> │\n",
       "├─────────────────────┼───────────────────┼────────────┼───────────────────┤\n",
       "│ conv2d_11 (<span style=\"color: #0087ff; text-decoration-color: #0087ff\">Conv2D</span>)  │ (<span style=\"color: #00d7ff; text-decoration-color: #00d7ff\">None</span>, <span style=\"color: #00af00; text-decoration-color: #00af00\">32</span>, <span style=\"color: #00af00; text-decoration-color: #00af00\">32</span>, <span style=\"color: #00af00; text-decoration-color: #00af00\">1</span>) │        <span style=\"color: #00af00; text-decoration-color: #00af00\">129</span> │ activation_9[<span style=\"color: #00af00; text-decoration-color: #00af00\">0</span>][<span style=\"color: #00af00; text-decoration-color: #00af00\">…</span> │\n",
       "├─────────────────────┼───────────────────┼────────────┼───────────────────┤\n",
       "│ MNIST_output        │ (<span style=\"color: #00d7ff; text-decoration-color: #00d7ff\">None</span>, <span style=\"color: #00af00; text-decoration-color: #00af00\">32</span>, <span style=\"color: #00af00; text-decoration-color: #00af00\">32</span>)    │          <span style=\"color: #00af00; text-decoration-color: #00af00\">0</span> │ conv2d_10[<span style=\"color: #00af00; text-decoration-color: #00af00\">0</span>][<span style=\"color: #00af00; text-decoration-color: #00af00\">0</span>]   │\n",
       "│ (<span style=\"color: #0087ff; text-decoration-color: #0087ff\">Reshape</span>)           │                   │            │                   │\n",
       "├─────────────────────┼───────────────────┼────────────┼───────────────────┤\n",
       "│ Fashion_MNIST_outp… │ (<span style=\"color: #00d7ff; text-decoration-color: #00d7ff\">None</span>, <span style=\"color: #00af00; text-decoration-color: #00af00\">32</span>, <span style=\"color: #00af00; text-decoration-color: #00af00\">32</span>)    │          <span style=\"color: #00af00; text-decoration-color: #00af00\">0</span> │ conv2d_11[<span style=\"color: #00af00; text-decoration-color: #00af00\">0</span>][<span style=\"color: #00af00; text-decoration-color: #00af00\">0</span>]   │\n",
       "│ (<span style=\"color: #0087ff; text-decoration-color: #0087ff\">Reshape</span>)           │                   │            │                   │\n",
       "└─────────────────────┴───────────────────┴────────────┴───────────────────┘\n",
       "</pre>\n"
      ],
      "text/plain": [
       "┏━━━━━━━━━━━━━━━━━━━━━┳━━━━━━━━━━━━━━━━━━━┳━━━━━━━━━━━━┳━━━━━━━━━━━━━━━━━━━┓\n",
       "┃\u001b[1m \u001b[0m\u001b[1mLayer (type)       \u001b[0m\u001b[1m \u001b[0m┃\u001b[1m \u001b[0m\u001b[1mOutput Shape     \u001b[0m\u001b[1m \u001b[0m┃\u001b[1m \u001b[0m\u001b[1m   Param #\u001b[0m\u001b[1m \u001b[0m┃\u001b[1m \u001b[0m\u001b[1mConnected to     \u001b[0m\u001b[1m \u001b[0m┃\n",
       "┡━━━━━━━━━━━━━━━━━━━━━╇━━━━━━━━━━━━━━━━━━━╇━━━━━━━━━━━━╇━━━━━━━━━━━━━━━━━━━┩\n",
       "│ input_layer         │ (\u001b[38;5;45mNone\u001b[0m, \u001b[38;5;34m32\u001b[0m, \u001b[38;5;34m32\u001b[0m, \u001b[38;5;34m1\u001b[0m) │          \u001b[38;5;34m0\u001b[0m │ -                 │\n",
       "│ (\u001b[38;5;33mInputLayer\u001b[0m)        │                   │            │                   │\n",
       "├─────────────────────┼───────────────────┼────────────┼───────────────────┤\n",
       "│ conv2d (\u001b[38;5;33mConv2D\u001b[0m)     │ (\u001b[38;5;45mNone\u001b[0m, \u001b[38;5;34m32\u001b[0m, \u001b[38;5;34m32\u001b[0m,    │      \u001b[38;5;34m1,280\u001b[0m │ input_layer[\u001b[38;5;34m0\u001b[0m][\u001b[38;5;34m0\u001b[0m] │\n",
       "│                     │ \u001b[38;5;34m128\u001b[0m)              │            │                   │\n",
       "├─────────────────────┼───────────────────┼────────────┼───────────────────┤\n",
       "│ batch_normalization │ (\u001b[38;5;45mNone\u001b[0m, \u001b[38;5;34m32\u001b[0m, \u001b[38;5;34m32\u001b[0m,    │        \u001b[38;5;34m512\u001b[0m │ conv2d[\u001b[38;5;34m0\u001b[0m][\u001b[38;5;34m0\u001b[0m]      │\n",
       "│ (\u001b[38;5;33mBatchNormalizatio…\u001b[0m │ \u001b[38;5;34m128\u001b[0m)              │            │                   │\n",
       "├─────────────────────┼───────────────────┼────────────┼───────────────────┤\n",
       "│ activation          │ (\u001b[38;5;45mNone\u001b[0m, \u001b[38;5;34m32\u001b[0m, \u001b[38;5;34m32\u001b[0m,    │          \u001b[38;5;34m0\u001b[0m │ batch_normalizat… │\n",
       "│ (\u001b[38;5;33mActivation\u001b[0m)        │ \u001b[38;5;34m128\u001b[0m)              │            │                   │\n",
       "├─────────────────────┼───────────────────┼────────────┼───────────────────┤\n",
       "│ conv2d_1 (\u001b[38;5;33mConv2D\u001b[0m)   │ (\u001b[38;5;45mNone\u001b[0m, \u001b[38;5;34m32\u001b[0m, \u001b[38;5;34m32\u001b[0m,    │    \u001b[38;5;34m147,584\u001b[0m │ activation[\u001b[38;5;34m0\u001b[0m][\u001b[38;5;34m0\u001b[0m]  │\n",
       "│                     │ \u001b[38;5;34m128\u001b[0m)              │            │                   │\n",
       "├─────────────────────┼───────────────────┼────────────┼───────────────────┤\n",
       "│ batch_normalizatio… │ (\u001b[38;5;45mNone\u001b[0m, \u001b[38;5;34m32\u001b[0m, \u001b[38;5;34m32\u001b[0m,    │        \u001b[38;5;34m512\u001b[0m │ conv2d_1[\u001b[38;5;34m0\u001b[0m][\u001b[38;5;34m0\u001b[0m]    │\n",
       "│ (\u001b[38;5;33mBatchNormalizatio…\u001b[0m │ \u001b[38;5;34m128\u001b[0m)              │            │                   │\n",
       "├─────────────────────┼───────────────────┼────────────┼───────────────────┤\n",
       "│ activation_1        │ (\u001b[38;5;45mNone\u001b[0m, \u001b[38;5;34m32\u001b[0m, \u001b[38;5;34m32\u001b[0m,    │          \u001b[38;5;34m0\u001b[0m │ batch_normalizat… │\n",
       "│ (\u001b[38;5;33mActivation\u001b[0m)        │ \u001b[38;5;34m128\u001b[0m)              │            │                   │\n",
       "├─────────────────────┼───────────────────┼────────────┼───────────────────┤\n",
       "│ max_pooling2d       │ (\u001b[38;5;45mNone\u001b[0m, \u001b[38;5;34m16\u001b[0m, \u001b[38;5;34m16\u001b[0m,    │          \u001b[38;5;34m0\u001b[0m │ activation_1[\u001b[38;5;34m0\u001b[0m][\u001b[38;5;34m…\u001b[0m │\n",
       "│ (\u001b[38;5;33mMaxPooling2D\u001b[0m)      │ \u001b[38;5;34m128\u001b[0m)              │            │                   │\n",
       "├─────────────────────┼───────────────────┼────────────┼───────────────────┤\n",
       "│ conv2d_2 (\u001b[38;5;33mConv2D\u001b[0m)   │ (\u001b[38;5;45mNone\u001b[0m, \u001b[38;5;34m16\u001b[0m, \u001b[38;5;34m16\u001b[0m,    │    \u001b[38;5;34m295,168\u001b[0m │ max_pooling2d[\u001b[38;5;34m0\u001b[0m]… │\n",
       "│                     │ \u001b[38;5;34m256\u001b[0m)              │            │                   │\n",
       "├─────────────────────┼───────────────────┼────────────┼───────────────────┤\n",
       "│ batch_normalizatio… │ (\u001b[38;5;45mNone\u001b[0m, \u001b[38;5;34m16\u001b[0m, \u001b[38;5;34m16\u001b[0m,    │      \u001b[38;5;34m1,024\u001b[0m │ conv2d_2[\u001b[38;5;34m0\u001b[0m][\u001b[38;5;34m0\u001b[0m]    │\n",
       "│ (\u001b[38;5;33mBatchNormalizatio…\u001b[0m │ \u001b[38;5;34m256\u001b[0m)              │            │                   │\n",
       "├─────────────────────┼───────────────────┼────────────┼───────────────────┤\n",
       "│ activation_2        │ (\u001b[38;5;45mNone\u001b[0m, \u001b[38;5;34m16\u001b[0m, \u001b[38;5;34m16\u001b[0m,    │          \u001b[38;5;34m0\u001b[0m │ batch_normalizat… │\n",
       "│ (\u001b[38;5;33mActivation\u001b[0m)        │ \u001b[38;5;34m256\u001b[0m)              │            │                   │\n",
       "├─────────────────────┼───────────────────┼────────────┼───────────────────┤\n",
       "│ conv2d_3 (\u001b[38;5;33mConv2D\u001b[0m)   │ (\u001b[38;5;45mNone\u001b[0m, \u001b[38;5;34m16\u001b[0m, \u001b[38;5;34m16\u001b[0m,    │    \u001b[38;5;34m590,080\u001b[0m │ activation_2[\u001b[38;5;34m0\u001b[0m][\u001b[38;5;34m…\u001b[0m │\n",
       "│                     │ \u001b[38;5;34m256\u001b[0m)              │            │                   │\n",
       "├─────────────────────┼───────────────────┼────────────┼───────────────────┤\n",
       "│ batch_normalizatio… │ (\u001b[38;5;45mNone\u001b[0m, \u001b[38;5;34m16\u001b[0m, \u001b[38;5;34m16\u001b[0m,    │      \u001b[38;5;34m1,024\u001b[0m │ conv2d_3[\u001b[38;5;34m0\u001b[0m][\u001b[38;5;34m0\u001b[0m]    │\n",
       "│ (\u001b[38;5;33mBatchNormalizatio…\u001b[0m │ \u001b[38;5;34m256\u001b[0m)              │            │                   │\n",
       "├─────────────────────┼───────────────────┼────────────┼───────────────────┤\n",
       "│ activation_3        │ (\u001b[38;5;45mNone\u001b[0m, \u001b[38;5;34m16\u001b[0m, \u001b[38;5;34m16\u001b[0m,    │          \u001b[38;5;34m0\u001b[0m │ batch_normalizat… │\n",
       "│ (\u001b[38;5;33mActivation\u001b[0m)        │ \u001b[38;5;34m256\u001b[0m)              │            │                   │\n",
       "├─────────────────────┼───────────────────┼────────────┼───────────────────┤\n",
       "│ max_pooling2d_1     │ (\u001b[38;5;45mNone\u001b[0m, \u001b[38;5;34m8\u001b[0m, \u001b[38;5;34m8\u001b[0m, \u001b[38;5;34m256\u001b[0m) │          \u001b[38;5;34m0\u001b[0m │ activation_3[\u001b[38;5;34m0\u001b[0m][\u001b[38;5;34m…\u001b[0m │\n",
       "│ (\u001b[38;5;33mMaxPooling2D\u001b[0m)      │                   │            │                   │\n",
       "├─────────────────────┼───────────────────┼────────────┼───────────────────┤\n",
       "│ conv2d_4 (\u001b[38;5;33mConv2D\u001b[0m)   │ (\u001b[38;5;45mNone\u001b[0m, \u001b[38;5;34m8\u001b[0m, \u001b[38;5;34m8\u001b[0m, \u001b[38;5;34m512\u001b[0m) │  \u001b[38;5;34m1,180,160\u001b[0m │ max_pooling2d_1[\u001b[38;5;34m…\u001b[0m │\n",
       "├─────────────────────┼───────────────────┼────────────┼───────────────────┤\n",
       "│ batch_normalizatio… │ (\u001b[38;5;45mNone\u001b[0m, \u001b[38;5;34m8\u001b[0m, \u001b[38;5;34m8\u001b[0m, \u001b[38;5;34m512\u001b[0m) │      \u001b[38;5;34m2,048\u001b[0m │ conv2d_4[\u001b[38;5;34m0\u001b[0m][\u001b[38;5;34m0\u001b[0m]    │\n",
       "│ (\u001b[38;5;33mBatchNormalizatio…\u001b[0m │                   │            │                   │\n",
       "├─────────────────────┼───────────────────┼────────────┼───────────────────┤\n",
       "│ activation_4        │ (\u001b[38;5;45mNone\u001b[0m, \u001b[38;5;34m8\u001b[0m, \u001b[38;5;34m8\u001b[0m, \u001b[38;5;34m512\u001b[0m) │          \u001b[38;5;34m0\u001b[0m │ batch_normalizat… │\n",
       "│ (\u001b[38;5;33mActivation\u001b[0m)        │                   │            │                   │\n",
       "├─────────────────────┼───────────────────┼────────────┼───────────────────┤\n",
       "│ conv2d_5 (\u001b[38;5;33mConv2D\u001b[0m)   │ (\u001b[38;5;45mNone\u001b[0m, \u001b[38;5;34m8\u001b[0m, \u001b[38;5;34m8\u001b[0m, \u001b[38;5;34m512\u001b[0m) │  \u001b[38;5;34m2,359,808\u001b[0m │ activation_4[\u001b[38;5;34m0\u001b[0m][\u001b[38;5;34m…\u001b[0m │\n",
       "├─────────────────────┼───────────────────┼────────────┼───────────────────┤\n",
       "│ batch_normalizatio… │ (\u001b[38;5;45mNone\u001b[0m, \u001b[38;5;34m8\u001b[0m, \u001b[38;5;34m8\u001b[0m, \u001b[38;5;34m512\u001b[0m) │      \u001b[38;5;34m2,048\u001b[0m │ conv2d_5[\u001b[38;5;34m0\u001b[0m][\u001b[38;5;34m0\u001b[0m]    │\n",
       "│ (\u001b[38;5;33mBatchNormalizatio…\u001b[0m │                   │            │                   │\n",
       "├─────────────────────┼───────────────────┼────────────┼───────────────────┤\n",
       "│ activation_5        │ (\u001b[38;5;45mNone\u001b[0m, \u001b[38;5;34m8\u001b[0m, \u001b[38;5;34m8\u001b[0m, \u001b[38;5;34m512\u001b[0m) │          \u001b[38;5;34m0\u001b[0m │ batch_normalizat… │\n",
       "│ (\u001b[38;5;33mActivation\u001b[0m)        │                   │            │                   │\n",
       "├─────────────────────┼───────────────────┼────────────┼───────────────────┤\n",
       "│ conv2d_transpose    │ (\u001b[38;5;45mNone\u001b[0m, \u001b[38;5;34m16\u001b[0m, \u001b[38;5;34m16\u001b[0m,    │  \u001b[38;5;34m1,179,904\u001b[0m │ activation_5[\u001b[38;5;34m0\u001b[0m][\u001b[38;5;34m…\u001b[0m │\n",
       "│ (\u001b[38;5;33mConv2DTranspose\u001b[0m)   │ \u001b[38;5;34m256\u001b[0m)              │            │                   │\n",
       "├─────────────────────┼───────────────────┼────────────┼───────────────────┤\n",
       "│ concatenate         │ (\u001b[38;5;45mNone\u001b[0m, \u001b[38;5;34m16\u001b[0m, \u001b[38;5;34m16\u001b[0m,    │          \u001b[38;5;34m0\u001b[0m │ conv2d_transpose… │\n",
       "│ (\u001b[38;5;33mConcatenate\u001b[0m)       │ \u001b[38;5;34m512\u001b[0m)              │            │ activation_3[\u001b[38;5;34m0\u001b[0m][\u001b[38;5;34m…\u001b[0m │\n",
       "├─────────────────────┼───────────────────┼────────────┼───────────────────┤\n",
       "│ conv2d_6 (\u001b[38;5;33mConv2D\u001b[0m)   │ (\u001b[38;5;45mNone\u001b[0m, \u001b[38;5;34m16\u001b[0m, \u001b[38;5;34m16\u001b[0m,    │  \u001b[38;5;34m1,179,904\u001b[0m │ concatenate[\u001b[38;5;34m0\u001b[0m][\u001b[38;5;34m0\u001b[0m] │\n",
       "│                     │ \u001b[38;5;34m256\u001b[0m)              │            │                   │\n",
       "├─────────────────────┼───────────────────┼────────────┼───────────────────┤\n",
       "│ batch_normalizatio… │ (\u001b[38;5;45mNone\u001b[0m, \u001b[38;5;34m16\u001b[0m, \u001b[38;5;34m16\u001b[0m,    │      \u001b[38;5;34m1,024\u001b[0m │ conv2d_6[\u001b[38;5;34m0\u001b[0m][\u001b[38;5;34m0\u001b[0m]    │\n",
       "│ (\u001b[38;5;33mBatchNormalizatio…\u001b[0m │ \u001b[38;5;34m256\u001b[0m)              │            │                   │\n",
       "├─────────────────────┼───────────────────┼────────────┼───────────────────┤\n",
       "│ activation_6        │ (\u001b[38;5;45mNone\u001b[0m, \u001b[38;5;34m16\u001b[0m, \u001b[38;5;34m16\u001b[0m,    │          \u001b[38;5;34m0\u001b[0m │ batch_normalizat… │\n",
       "│ (\u001b[38;5;33mActivation\u001b[0m)        │ \u001b[38;5;34m256\u001b[0m)              │            │                   │\n",
       "├─────────────────────┼───────────────────┼────────────┼───────────────────┤\n",
       "│ conv2d_7 (\u001b[38;5;33mConv2D\u001b[0m)   │ (\u001b[38;5;45mNone\u001b[0m, \u001b[38;5;34m16\u001b[0m, \u001b[38;5;34m16\u001b[0m,    │    \u001b[38;5;34m590,080\u001b[0m │ activation_6[\u001b[38;5;34m0\u001b[0m][\u001b[38;5;34m…\u001b[0m │\n",
       "│                     │ \u001b[38;5;34m256\u001b[0m)              │            │                   │\n",
       "├─────────────────────┼───────────────────┼────────────┼───────────────────┤\n",
       "│ batch_normalizatio… │ (\u001b[38;5;45mNone\u001b[0m, \u001b[38;5;34m16\u001b[0m, \u001b[38;5;34m16\u001b[0m,    │      \u001b[38;5;34m1,024\u001b[0m │ conv2d_7[\u001b[38;5;34m0\u001b[0m][\u001b[38;5;34m0\u001b[0m]    │\n",
       "│ (\u001b[38;5;33mBatchNormalizatio…\u001b[0m │ \u001b[38;5;34m256\u001b[0m)              │            │                   │\n",
       "├─────────────────────┼───────────────────┼────────────┼───────────────────┤\n",
       "│ activation_7        │ (\u001b[38;5;45mNone\u001b[0m, \u001b[38;5;34m16\u001b[0m, \u001b[38;5;34m16\u001b[0m,    │          \u001b[38;5;34m0\u001b[0m │ batch_normalizat… │\n",
       "│ (\u001b[38;5;33mActivation\u001b[0m)        │ \u001b[38;5;34m256\u001b[0m)              │            │                   │\n",
       "├─────────────────────┼───────────────────┼────────────┼───────────────────┤\n",
       "│ conv2d_transpose_1  │ (\u001b[38;5;45mNone\u001b[0m, \u001b[38;5;34m32\u001b[0m, \u001b[38;5;34m32\u001b[0m,    │    \u001b[38;5;34m295,040\u001b[0m │ activation_7[\u001b[38;5;34m0\u001b[0m][\u001b[38;5;34m…\u001b[0m │\n",
       "│ (\u001b[38;5;33mConv2DTranspose\u001b[0m)   │ \u001b[38;5;34m128\u001b[0m)              │            │                   │\n",
       "├─────────────────────┼───────────────────┼────────────┼───────────────────┤\n",
       "│ concatenate_1       │ (\u001b[38;5;45mNone\u001b[0m, \u001b[38;5;34m32\u001b[0m, \u001b[38;5;34m32\u001b[0m,    │          \u001b[38;5;34m0\u001b[0m │ conv2d_transpose… │\n",
       "│ (\u001b[38;5;33mConcatenate\u001b[0m)       │ \u001b[38;5;34m256\u001b[0m)              │            │ activation_1[\u001b[38;5;34m0\u001b[0m][\u001b[38;5;34m…\u001b[0m │\n",
       "├─────────────────────┼───────────────────┼────────────┼───────────────────┤\n",
       "│ conv2d_8 (\u001b[38;5;33mConv2D\u001b[0m)   │ (\u001b[38;5;45mNone\u001b[0m, \u001b[38;5;34m32\u001b[0m, \u001b[38;5;34m32\u001b[0m,    │    \u001b[38;5;34m295,040\u001b[0m │ concatenate_1[\u001b[38;5;34m0\u001b[0m]… │\n",
       "│                     │ \u001b[38;5;34m128\u001b[0m)              │            │                   │\n",
       "├─────────────────────┼───────────────────┼────────────┼───────────────────┤\n",
       "│ batch_normalizatio… │ (\u001b[38;5;45mNone\u001b[0m, \u001b[38;5;34m32\u001b[0m, \u001b[38;5;34m32\u001b[0m,    │        \u001b[38;5;34m512\u001b[0m │ conv2d_8[\u001b[38;5;34m0\u001b[0m][\u001b[38;5;34m0\u001b[0m]    │\n",
       "│ (\u001b[38;5;33mBatchNormalizatio…\u001b[0m │ \u001b[38;5;34m128\u001b[0m)              │            │                   │\n",
       "├─────────────────────┼───────────────────┼────────────┼───────────────────┤\n",
       "│ activation_8        │ (\u001b[38;5;45mNone\u001b[0m, \u001b[38;5;34m32\u001b[0m, \u001b[38;5;34m32\u001b[0m,    │          \u001b[38;5;34m0\u001b[0m │ batch_normalizat… │\n",
       "│ (\u001b[38;5;33mActivation\u001b[0m)        │ \u001b[38;5;34m128\u001b[0m)              │            │                   │\n",
       "├─────────────────────┼───────────────────┼────────────┼───────────────────┤\n",
       "│ conv2d_9 (\u001b[38;5;33mConv2D\u001b[0m)   │ (\u001b[38;5;45mNone\u001b[0m, \u001b[38;5;34m32\u001b[0m, \u001b[38;5;34m32\u001b[0m,    │    \u001b[38;5;34m147,584\u001b[0m │ activation_8[\u001b[38;5;34m0\u001b[0m][\u001b[38;5;34m…\u001b[0m │\n",
       "│                     │ \u001b[38;5;34m128\u001b[0m)              │            │                   │\n",
       "├─────────────────────┼───────────────────┼────────────┼───────────────────┤\n",
       "│ batch_normalizatio… │ (\u001b[38;5;45mNone\u001b[0m, \u001b[38;5;34m32\u001b[0m, \u001b[38;5;34m32\u001b[0m,    │        \u001b[38;5;34m512\u001b[0m │ conv2d_9[\u001b[38;5;34m0\u001b[0m][\u001b[38;5;34m0\u001b[0m]    │\n",
       "│ (\u001b[38;5;33mBatchNormalizatio…\u001b[0m │ \u001b[38;5;34m128\u001b[0m)              │            │                   │\n",
       "├─────────────────────┼───────────────────┼────────────┼───────────────────┤\n",
       "│ activation_9        │ (\u001b[38;5;45mNone\u001b[0m, \u001b[38;5;34m32\u001b[0m, \u001b[38;5;34m32\u001b[0m,    │          \u001b[38;5;34m0\u001b[0m │ batch_normalizat… │\n",
       "│ (\u001b[38;5;33mActivation\u001b[0m)        │ \u001b[38;5;34m128\u001b[0m)              │            │                   │\n",
       "├─────────────────────┼───────────────────┼────────────┼───────────────────┤\n",
       "│ conv2d_10 (\u001b[38;5;33mConv2D\u001b[0m)  │ (\u001b[38;5;45mNone\u001b[0m, \u001b[38;5;34m32\u001b[0m, \u001b[38;5;34m32\u001b[0m, \u001b[38;5;34m1\u001b[0m) │        \u001b[38;5;34m129\u001b[0m │ activation_9[\u001b[38;5;34m0\u001b[0m][\u001b[38;5;34m…\u001b[0m │\n",
       "├─────────────────────┼───────────────────┼────────────┼───────────────────┤\n",
       "│ conv2d_11 (\u001b[38;5;33mConv2D\u001b[0m)  │ (\u001b[38;5;45mNone\u001b[0m, \u001b[38;5;34m32\u001b[0m, \u001b[38;5;34m32\u001b[0m, \u001b[38;5;34m1\u001b[0m) │        \u001b[38;5;34m129\u001b[0m │ activation_9[\u001b[38;5;34m0\u001b[0m][\u001b[38;5;34m…\u001b[0m │\n",
       "├─────────────────────┼───────────────────┼────────────┼───────────────────┤\n",
       "│ MNIST_output        │ (\u001b[38;5;45mNone\u001b[0m, \u001b[38;5;34m32\u001b[0m, \u001b[38;5;34m32\u001b[0m)    │          \u001b[38;5;34m0\u001b[0m │ conv2d_10[\u001b[38;5;34m0\u001b[0m][\u001b[38;5;34m0\u001b[0m]   │\n",
       "│ (\u001b[38;5;33mReshape\u001b[0m)           │                   │            │                   │\n",
       "├─────────────────────┼───────────────────┼────────────┼───────────────────┤\n",
       "│ Fashion_MNIST_outp… │ (\u001b[38;5;45mNone\u001b[0m, \u001b[38;5;34m32\u001b[0m, \u001b[38;5;34m32\u001b[0m)    │          \u001b[38;5;34m0\u001b[0m │ conv2d_11[\u001b[38;5;34m0\u001b[0m][\u001b[38;5;34m0\u001b[0m]   │\n",
       "│ (\u001b[38;5;33mReshape\u001b[0m)           │                   │            │                   │\n",
       "└─────────────────────┴───────────────────┴────────────┴───────────────────┘\n"
      ]
     },
     "metadata": {},
     "output_type": "display_data"
    },
    {
     "data": {
      "text/html": [
       "<pre style=\"white-space:pre;overflow-x:auto;line-height:normal;font-family:Menlo,'DejaVu Sans Mono',consolas,'Courier New',monospace\"><span style=\"font-weight: bold\"> Total params: </span><span style=\"color: #00af00; text-decoration-color: #00af00\">8,272,132</span> (31.56 MB)\n",
       "</pre>\n"
      ],
      "text/plain": [
       "\u001b[1m Total params: \u001b[0m\u001b[38;5;34m8,272,132\u001b[0m (31.56 MB)\n"
      ]
     },
     "metadata": {},
     "output_type": "display_data"
    },
    {
     "data": {
      "text/html": [
       "<pre style=\"white-space:pre;overflow-x:auto;line-height:normal;font-family:Menlo,'DejaVu Sans Mono',consolas,'Courier New',monospace\"><span style=\"font-weight: bold\"> Trainable params: </span><span style=\"color: #00af00; text-decoration-color: #00af00\">8,267,010</span> (31.54 MB)\n",
       "</pre>\n"
      ],
      "text/plain": [
       "\u001b[1m Trainable params: \u001b[0m\u001b[38;5;34m8,267,010\u001b[0m (31.54 MB)\n"
      ]
     },
     "metadata": {},
     "output_type": "display_data"
    },
    {
     "data": {
      "text/html": [
       "<pre style=\"white-space:pre;overflow-x:auto;line-height:normal;font-family:Menlo,'DejaVu Sans Mono',consolas,'Courier New',monospace\"><span style=\"font-weight: bold\"> Non-trainable params: </span><span style=\"color: #00af00; text-decoration-color: #00af00\">5,120</span> (20.00 KB)\n",
       "</pre>\n"
      ],
      "text/plain": [
       "\u001b[1m Non-trainable params: \u001b[0m\u001b[38;5;34m5,120\u001b[0m (20.00 KB)\n"
      ]
     },
     "metadata": {},
     "output_type": "display_data"
    },
    {
     "data": {
      "text/html": [
       "<pre style=\"white-space:pre;overflow-x:auto;line-height:normal;font-family:Menlo,'DejaVu Sans Mono',consolas,'Courier New',monospace\"><span style=\"font-weight: bold\"> Optimizer params: </span><span style=\"color: #00af00; text-decoration-color: #00af00\">2</span> (12.00 B)\n",
       "</pre>\n"
      ],
      "text/plain": [
       "\u001b[1m Optimizer params: \u001b[0m\u001b[38;5;34m2\u001b[0m (12.00 B)\n"
      ]
     },
     "metadata": {},
     "output_type": "display_data"
    },
    {
     "name": "stdout",
     "output_type": "stream",
     "text": [
      "None\n"
     ]
    }
   ],
   "source": [
    "print(best_model.summary())"
   ]
  },
  {
   "cell_type": "code",
   "execution_count": 12,
   "metadata": {
    "ExecuteTime": {
     "end_time": "2025-02-05T14:35:08.086495900Z",
     "start_time": "2025-02-05T09:25:21.460388Z"
    },
    "id": "8W7k_wCHYj_d"
   },
   "outputs": [],
   "source": [
    "def eval_model(model):\n",
    "  x, (y1,y2) = next(testgen)\n",
    "# \n",
    "  # use model.predict to get predictions. Here we just call model\n",
    "  pred1, pred2 = model.predict(x)\n",
    "\n",
    "  # return (np.mean((pred1-y1)**2) + np.mean((pred2-y2)**2) / 2)\n",
    "  return (np.mean((pred1 - y1) ** 2) + np.mean((pred2 - y2) ** 2)) / 2"
   ]
  },
  {
   "cell_type": "code",
   "execution_count": 17,
   "metadata": {
    "ExecuteTime": {
     "end_time": "2025-02-05T14:35:08.119549400Z",
     "start_time": "2025-02-05T09:25:23.588522Z"
    },
    "colab": {
     "base_uri": "https://localhost:8080/"
    },
    "id": "k4ffEJ7PZ1Fd",
    "outputId": "3eda3967-401a-4549-a3e8-046025641618"
   },
   "outputs": [
    {
     "name": "stdout",
     "output_type": "stream",
     "text": [
      "\u001b[1m157/157\u001b[0m \u001b[32m━━━━━━━━━━━━━━━━━━━━\u001b[0m\u001b[37m\u001b[0m \u001b[1m13s\u001b[0m 40ms/step\n",
      "\u001b[1m157/157\u001b[0m \u001b[32m━━━━━━━━━━━━━━━━━━━━\u001b[0m\u001b[37m\u001b[0m \u001b[1m4s\u001b[0m 25ms/step\n",
      "\u001b[1m157/157\u001b[0m \u001b[32m━━━━━━━━━━━━━━━━━━━━\u001b[0m\u001b[37m\u001b[0m \u001b[1m4s\u001b[0m 25ms/step\n",
      "\u001b[1m157/157\u001b[0m \u001b[32m━━━━━━━━━━━━━━━━━━━━\u001b[0m\u001b[37m\u001b[0m \u001b[1m4s\u001b[0m 25ms/step\n",
      "\u001b[1m157/157\u001b[0m \u001b[32m━━━━━━━━━━━━━━━━━━━━\u001b[0m\u001b[37m\u001b[0m \u001b[1m4s\u001b[0m 25ms/step\n",
      "\u001b[1m157/157\u001b[0m \u001b[32m━━━━━━━━━━━━━━━━━━━━\u001b[0m\u001b[37m\u001b[0m \u001b[1m4s\u001b[0m 25ms/step\n",
      "\u001b[1m157/157\u001b[0m \u001b[32m━━━━━━━━━━━━━━━━━━━━\u001b[0m\u001b[37m\u001b[0m \u001b[1m4s\u001b[0m 25ms/step\n",
      "\u001b[1m157/157\u001b[0m \u001b[32m━━━━━━━━━━━━━━━━━━━━\u001b[0m\u001b[37m\u001b[0m \u001b[1m4s\u001b[0m 25ms/step\n",
      "\u001b[1m157/157\u001b[0m \u001b[32m━━━━━━━━━━━━━━━━━━━━\u001b[0m\u001b[37m\u001b[0m \u001b[1m4s\u001b[0m 25ms/step\n",
      "\u001b[1m157/157\u001b[0m \u001b[32m━━━━━━━━━━━━━━━━━━━━\u001b[0m\u001b[37m\u001b[0m \u001b[1m4s\u001b[0m 24ms/step\n",
      "\u001b[1m157/157\u001b[0m \u001b[32m━━━━━━━━━━━━━━━━━━━━\u001b[0m\u001b[37m\u001b[0m \u001b[1m4s\u001b[0m 25ms/step\n",
      "\u001b[1m157/157\u001b[0m \u001b[32m━━━━━━━━━━━━━━━━━━━━\u001b[0m\u001b[37m\u001b[0m \u001b[1m4s\u001b[0m 25ms/step\n",
      "\u001b[1m157/157\u001b[0m \u001b[32m━━━━━━━━━━━━━━━━━━━━\u001b[0m\u001b[37m\u001b[0m \u001b[1m4s\u001b[0m 25ms/step\n",
      "\u001b[1m157/157\u001b[0m \u001b[32m━━━━━━━━━━━━━━━━━━━━\u001b[0m\u001b[37m\u001b[0m \u001b[1m4s\u001b[0m 25ms/step\n",
      "\u001b[1m157/157\u001b[0m \u001b[32m━━━━━━━━━━━━━━━━━━━━\u001b[0m\u001b[37m\u001b[0m \u001b[1m4s\u001b[0m 25ms/step\n",
      "\u001b[1m157/157\u001b[0m \u001b[32m━━━━━━━━━━━━━━━━━━━━\u001b[0m\u001b[37m\u001b[0m \u001b[1m4s\u001b[0m 25ms/step\n",
      "\u001b[1m157/157\u001b[0m \u001b[32m━━━━━━━━━━━━━━━━━━━━\u001b[0m\u001b[37m\u001b[0m \u001b[1m4s\u001b[0m 24ms/step\n",
      "\u001b[1m157/157\u001b[0m \u001b[32m━━━━━━━━━━━━━━━━━━━━\u001b[0m\u001b[37m\u001b[0m \u001b[1m4s\u001b[0m 24ms/step\n",
      "\u001b[1m157/157\u001b[0m \u001b[32m━━━━━━━━━━━━━━━━━━━━\u001b[0m\u001b[37m\u001b[0m \u001b[1m4s\u001b[0m 24ms/step\n",
      "\u001b[1m157/157\u001b[0m \u001b[32m━━━━━━━━━━━━━━━━━━━━\u001b[0m\u001b[37m\u001b[0m \u001b[1m4s\u001b[0m 24ms/step\n",
      "\u001b[1m157/157\u001b[0m \u001b[32m━━━━━━━━━━━━━━━━━━━━\u001b[0m\u001b[37m\u001b[0m \u001b[1m4s\u001b[0m 24ms/step\n",
      "\u001b[1m157/157\u001b[0m \u001b[32m━━━━━━━━━━━━━━━━━━━━\u001b[0m\u001b[37m\u001b[0m \u001b[1m4s\u001b[0m 24ms/step\n",
      "\u001b[1m157/157\u001b[0m \u001b[32m━━━━━━━━━━━━━━━━━━━━\u001b[0m\u001b[37m\u001b[0m \u001b[1m4s\u001b[0m 25ms/step\n",
      "\u001b[1m157/157\u001b[0m \u001b[32m━━━━━━━━━━━━━━━━━━━━\u001b[0m\u001b[37m\u001b[0m \u001b[1m4s\u001b[0m 25ms/step\n",
      "\u001b[1m157/157\u001b[0m \u001b[32m━━━━━━━━━━━━━━━━━━━━\u001b[0m\u001b[37m\u001b[0m \u001b[1m4s\u001b[0m 25ms/step\n",
      "\u001b[1m157/157\u001b[0m \u001b[32m━━━━━━━━━━━━━━━━━━━━\u001b[0m\u001b[37m\u001b[0m \u001b[1m4s\u001b[0m 25ms/step\n",
      "\u001b[1m157/157\u001b[0m \u001b[32m━━━━━━━━━━━━━━━━━━━━\u001b[0m\u001b[37m\u001b[0m \u001b[1m4s\u001b[0m 24ms/step\n",
      "\u001b[1m157/157\u001b[0m \u001b[32m━━━━━━━━━━━━━━━━━━━━\u001b[0m\u001b[37m\u001b[0m \u001b[1m4s\u001b[0m 25ms/step\n",
      "\u001b[1m157/157\u001b[0m \u001b[32m━━━━━━━━━━━━━━━━━━━━\u001b[0m\u001b[37m\u001b[0m \u001b[1m4s\u001b[0m 25ms/step\n",
      "\u001b[1m157/157\u001b[0m \u001b[32m━━━━━━━━━━━━━━━━━━━━\u001b[0m\u001b[37m\u001b[0m \u001b[1m4s\u001b[0m 25ms/step\n",
      "mse =  0.000387731962000525\n",
      "standard deviation =  7.1232223791538015e-06\n"
     ]
    }
   ],
   "source": [
    "from tensorflow.keras.models import load_model\n",
    "# Map the key 'mse' to the appropriate function\n",
    "best_model = load_model(\"my_best_model.h5\", custom_objects={\n",
    "    'mse': lambda y_true, y_pred: tf.keras.losses.MeanSquaredError()(y_true, y_pred)\n",
    "})\n",
    "\n",
    "repeat_eval = 30\n",
    "eval_results = []\n",
    "for i in range(repeat_eval):\n",
    "  eval_results.append(eval_model(best_model))\n",
    "print(\"mse = \", np.mean(eval_results))\n",
    "print(\"standard deviation = \", np.std(eval_results))"
   ]
  },
  {
   "cell_type": "code",
   "execution_count": 24,
   "metadata": {
    "colab": {
     "base_uri": "https://localhost:8080/",
     "height": 1000
    },
    "id": "ip51W6Sp99bL",
    "outputId": "eca95997-fd00-4189-fd39-aac9b887fd8c"
   },
   "outputs": [
    {
     "data": {
      "image/png": "[encoded data removed]",
      "text/plain": [
       "<Figure size 640x480 with 1 Axes>"
      ]
     },
     "metadata": {},
     "output_type": "display_data"
    }
   ],
   "source": [
    "import json\n",
    "with open(\"training_history.json\", \"r\") as f:\n",
    "    history = json.load(f)\n",
    "\n",
    "def display_history(history):\n",
    "    if not isinstance(history, dict):\n",
    "        history = history.history\n",
    "    \n",
    "    mse_training = history['loss']\n",
    "    # acc_training = history.history['accuracy']\n",
    "\n",
    "    mse_val = history['val_loss']\n",
    "    # acc_val = history.history['val_accuracy']\n",
    "    \n",
    "    mse_fashion = history['Fashion_MNIST_output_loss']\n",
    "    mse_mnist = history['MNIST_output_loss']\n",
    "    mse_mean = [(a+b)/2 for a,b in zip(mse_fashion, mse_mnist)]\n",
    "    \n",
    "    mse_val_fashion = history['val_Fashion_MNIST_output_loss']\n",
    "    mse_val_mnist = history['val_MNIST_output_loss']\n",
    "    mse_val_mean = [(a+b)/2 for a,b in zip(mse_val_fashion, mse_val_mnist)]\n",
    "    # Visualize the behavior of the loss\n",
    "    # plt.plot(mse_training)\n",
    "    # plt.plot(mse_val)\n",
    "    plt.plot(mse_mean)\n",
    "    plt.plot(mse_val_mean)\n",
    "    plt.grid()\n",
    "    plt.title('Loss during training')\n",
    "    plt.xlabel('Epoch')\n",
    "    plt.legend(['Training', 'Validation'])\n",
    "    plt.show()\n",
    "\n",
    "    # # and of the accuracy\n",
    "    # plt.plot(acc_training)\n",
    "    # plt.plot(acc_val)\n",
    "    # plt.grid()\n",
    "    # plt.title('Accuracy during training')\n",
    "    # plt.xlabel('Epoch')\n",
    "    # plt.legend(['Training', 'Validation'])\n",
    "    # plt.show()\n",
    "\n",
    "# print(history.model.summary())\n",
    "display_history(history)"
   ]
  },
  {
   "cell_type": "code",
   "execution_count": 16,
   "metadata": {},
   "outputs": [
    {
     "ename": "NameError",
     "evalue": "name 'model' is not defined",
     "output_type": "error",
     "traceback": [
      "\u001b[0;31m---------------------------------------------------------------------------\u001b[0m",
      "\u001b[0;31mNameError\u001b[0m                                 Traceback (most recent call last)",
      "Cell \u001b[0;32mIn[16], line 22\u001b[0m\n\u001b[1;32m     18\u001b[0m         \u001b[38;5;28mprint\u001b[39m(\u001b[38;5;124m'\u001b[39m\u001b[38;5;130;01m\\n\u001b[39;00m\u001b[38;5;124m'\u001b[39m)\n\u001b[1;32m     20\u001b[0m         plt\u001b[38;5;241m.\u001b[39mshow()\n\u001b[0;32m---> 22\u001b[0m visual_test(visual_test_generator, \u001b[43mmodel\u001b[49m, n_images\u001b[38;5;241m=\u001b[39m\u001b[38;5;241m1\u001b[39m)\n",
      "\u001b[0;31mNameError\u001b[0m: name 'model' is not defined"
     ]
    }
   ],
   "source": [
    "batch_visual_gen = 8\n",
    "visual_test_generator = datagenerator(mnist_x_test, fashion_mnist_x_test, batch_visual_gen)\n",
    "\n",
    "def visual_test(generator, model, n_images=1):\n",
    "    x_test, y_test = next(generator)\n",
    "\n",
    "    for i in range(n_images):\n",
    "        print(f'\\n --------- IMAGE {i+1} --------- \\n')\n",
    "        # Create the grid\n",
    "        show_images(x_test[i], y_test[0][i], y_test[1][i])\n",
    "        \n",
    "        # Get the prediction\n",
    "        pred1, pred2 = model.predict(x_test[i][np.newaxis, ...])\n",
    "        \n",
    "        # Display the prediction\n",
    "        print('Predictions:')\n",
    "        show_images(x_test[i], pred1[0], pred2[0])\n",
    "        print('\\n')\n",
    "        \n",
    "        plt.show()\n",
    "        \n",
    "visual_test(visual_test_generator, model, n_images=1)"
   ]
  },
  {
   "cell_type": "markdown",
   "metadata": {
    "id": "wnuAA_CNWaSm"
   },
   "source": [
    "# What to deliver\n",
    "As usual, you are supposed to deliver a single notebook that is supposed to run on colab. The notebook should be adequately commented, contain a full trace of the training, the computation of the mse in the form specified above and a few examples.\n",
    "\n",
    "Good Work!"
   ]
  }
 ],
 "metadata": {
  "accelerator": "GPU",
  "colab": {
   "gpuType": "T4",
   "provenance": []
  },
  "kernelspec": {
   "display_name": "DeepLearning",
   "language": "python",
   "name": "python3"
  },
  "language_info": {
   "codemirror_mode": {
    "name": "ipython",
    "version": 3
   },
   "file_extension": ".py",
   "mimetype": "text/x-python",
   "name": "python",
   "nbconvert_exporter": "python",
   "pygments_lexer": "ipython3",
   "version": "3.12.8"
  }
 },
 "nbformat": 4,
 "nbformat_minor": 0
}
